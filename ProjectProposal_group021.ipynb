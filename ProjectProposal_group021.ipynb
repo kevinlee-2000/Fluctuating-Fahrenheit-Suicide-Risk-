{
 "cells": [
  {
   "cell_type": "markdown",
   "metadata": {},
   "source": [
    "# COGS 108 - Final Project Proposal"
   ]
  },
  {
   "cell_type": "markdown",
   "metadata": {},
   "source": [
    "# Names\n",
    "\n",
    "- Kevin Lee\n",
    "- Sherry Ma\n",
    "- Eli Marx-Kahn\n",
    "- Jonathan Chou"
   ]
  },
  {
   "cell_type": "markdown",
   "metadata": {},
   "source": [
    "# Research Question"
   ]
  },
  {
   "cell_type": "markdown",
   "metadata": {},
   "source": [
    "Is there a relationship between average monthly temperature and the number of suicides per month in New York City? More specifically:\n",
    "\n",
    "1. Do suicide rates in a given month differ by year when average temperatures in that month differ?\n",
    "2. Do anomalously warm or cold months have a correlation with an increase or decrease in suicide rates?"
   ]
  },
  {
   "cell_type": "markdown",
   "metadata": {},
   "source": [
    "## Background and Prior Work"
   ]
  },
  {
   "cell_type": "markdown",
   "metadata": {},
   "source": [
    "All of the members of our group are or have been involved with the healthcare industry in some capacity and care deeply about the wellbeing of our fellow citizens. As we see it, suicide constitutes a serious threat to societal and community wellbeing. As such, we are interested in analyzing current data on monthly temperature averages and corresponding monthly suicide rates in the context of a large American city. This would shed light on an issue that has only previously been explored in the United Kingdom and some European countries some number of decades ago (2). \n",
    "\n",
    "While there has been ample research conducted in the United States to assess the effects of climate change on suicide rates (1, 3), we think that a more granular analysis of monthly fluctuations in temperature and the corresponding rates of suicide could offer additional insight into the relationship between these two phenomena. Furthermore, we would like to explore the possibility that abnormally cold or warm temperatures in a given month might correlate with abnormal rates of suicide. \n",
    "\n",
    "References:\n",
    "\n",
    "1. https://news.stanford.edu/2018/07/23/warming-temperatures-linked-increased-suicide-rates/\n",
    "2. https://www.cambridge.org/core/journals/the-british-journal-of-psychiatry/article/relationship-between-daily-suicide-counts-and-temperature-in-england-and-wales/C74E68D2E180CEADAB7101219DCCB86F\n",
    "3. https://time.com/5346900/climate-change-temperature-suicide/ "
   ]
  },
  {
   "cell_type": "markdown",
   "metadata": {},
   "source": [
    "# Hypothesis\n"
   ]
  },
  {
   "cell_type": "markdown",
   "metadata": {},
   "source": [
    "We hypothesize that months which are relatively colder have higher rates of suicide. In particular, we believe that months with abnormally cold temperatures have even higher rates of suicide. This hypothesis is based on prior research demonstrating the negative effects of cold temperatures on psychological well being. "
   ]
  },
  {
   "cell_type": "markdown",
   "metadata": {},
   "source": [
    "# Data"
   ]
  },
  {
   "cell_type": "markdown",
   "metadata": {},
   "source": [
    "The ideal datasets that we would want to answer this question are those that have the specific variables we are looking for, such as historical monthly temperature and suicide rates. These will ideally have at least 1000 observations to be able to have reasonably normalized datasets to extrapolate from. In addition, our ideal dataset would cover the last 10 years (up to 2020) to be able to gain the most accurate data that concerns our current society. These datasets would have been collected by official third parties and made available to the public stored ideally in JSON or CSV format for easy processing."
   ]
  },
  {
   "cell_type": "markdown",
   "metadata": {},
   "source": [
    "# Ethics & Privacy"
   ]
  },
  {
   "cell_type": "markdown",
   "metadata": {},
   "source": [
    "As of now, the data that we are planning to collect are from publicized, officially collected, anonymized, and purely numerical datasets on suicide rates. As a result, there are no key concerns on privacy due to the data not being attached to anything personal. \n",
    "\n",
    "Ethically speaking, we know that suicide is a rather morbid topic to be discussing, so we will remain as factual and objective as possible in order to ensure that no offense is taken. We also acknowledge that there could be potential harm to the families of suicide victims and as such we will make a concerted effort to avoid sensitive language. The data collected about temperature patterns have no ethical issues associated with them as no humans or animals are involved.\n"
   ]
  },
  {
   "cell_type": "markdown",
   "metadata": {},
   "source": [
    "# Team Expectations "
   ]
  },
  {
   "cell_type": "markdown",
   "metadata": {},
   "source": [
    "- Showing up to scheduled meetings on time (Wednesdays 8pm)\n",
    "- Completing assigned portions of the project on time\n",
    "- Open and respectful communication\n",
    "- Available to meet on Thursday 5pm as an emergency meeting time\n"
   ]
  },
  {
   "cell_type": "markdown",
   "metadata": {},
   "source": [
    "# Project Timeline Proposal"
   ]
  },
  {
   "cell_type": "markdown",
   "metadata": {},
   "source": [
    "| Meeting Date   | Meeting Time| Completed Before Meeting  | Discuss at Meeting |\n",
    "|---|---|---|--- |\n",
    "| 1/27  |  8 PM  | Brainstorm topics/questions  | Determine final project topic, complete project proposal | \n",
    "| 2/3   |  8 PM  |  Find potential datasets | Decide on datasets, plan preliminary analysis | \n",
    "| 2/10  |  8 PM  | Data cleaning  | Discuss Wrangling and possible analytical approaches; Assign group members to lead each specific part   |\n",
    "| 2/17  |  8 PM  | Import & Wrangle Data | Review/Edit wrangling/EDA; Discuss Analysis Plan   |\n",
    "| 2/24  |  8 PM  | Finalize wrangling/EDA; Begin Analysis | Discuss/edit Analysis; Complete project check-in \n",
    "| 3/3   |  8 PM  | Complete analysis; Draft results/conclusion/discussion (Wasp)| Discuss/edit full project |\n",
    "| 3/10  |  8 PM  | Any last minute revisions| Turn in Final Project & Group Project Surveys |"
   ]
  },
  {
   "cell_type": "code",
   "execution_count": null,
   "metadata": {},
   "outputs": [],
   "source": []
  }
 ],
 "metadata": {
  "kernelspec": {
   "display_name": "Python 3",
   "language": "python",
   "name": "python3"
  },
  "language_info": {
   "codemirror_mode": {
    "name": "ipython",
    "version": 3
   },
   "file_extension": ".py",
   "mimetype": "text/x-python",
   "name": "python",
   "nbconvert_exporter": "python",
   "pygments_lexer": "ipython3",
   "version": "3.7.6"
  }
 },
 "nbformat": 4,
 "nbformat_minor": 2
}
