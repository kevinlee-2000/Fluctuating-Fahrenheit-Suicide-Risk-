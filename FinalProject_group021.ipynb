{
 "cells": [
  {
   "cell_type": "markdown",
   "metadata": {},
   "source": [
    "# Fluctuating Fahrenheit: Suicide Risk?"
   ]
  },
  {
   "cell_type": "markdown",
   "metadata": {},
   "source": [
    "## Permissions\n",
    "\n",
    "Place an `X` in the appropriate bracket below to specify if you would like your group's project to be made available to the public. (Note that student names will be included (but PIDs will be scraped from any groups who include their PIDs).\n",
    "\n",
    "* [X] YES - make available\n",
    "* [  ] NO - keep private"
   ]
  },
  {
   "cell_type": "markdown",
   "metadata": {},
   "source": [
    "# Overview"
   ]
  },
  {
   "cell_type": "markdown",
   "metadata": {},
   "source": [
    "For this project, we explored the relationship between temperature trends and the number of suicides across genders in New York City from 2008 to 2014. To accomplish this, we used linear regression to check whether there is a relationship between temperature deviations, seasonal counts of suicides, and counts of suicides of men and women. After verifying whether the observation occurred by chance through checking the p-values, we concluded that there was no statistical basis to reject our null hypothesis, meaning we were unable to conclude any significant correlation between higher temperature fluctuations and people’s suicide rates, or any difference among men and women’s suicide rates. "
   ]
  },
  {
   "cell_type": "markdown",
   "metadata": {},
   "source": [
    "# Names\n",
    "\n",
    "- Jonathan Chou\n",
    "- Eli Marx-Kahn\n",
    "- Kevin Lee\n",
    "- Sherry Ma"
   ]
  },
  {
   "cell_type": "markdown",
   "metadata": {},
   "source": [
    "<a id='research_question'></a>\n",
    "# Research Question"
   ]
  },
  {
   "cell_type": "markdown",
   "metadata": {},
   "source": [
    "Is there a relationship between temperature trends and number of suicides in New York City? More specifically:\n",
    "\n",
    "1. Do suicide rates in a given season differ when average temperatures in that season deviate from typical* seasonal temperatures?\n",
    "2. Do suicide rates differ between men and women in years when there is higher temperature fluctuation?\n",
    "\n",
    "**Typical refers here to the average seasonal temperature across the years 2008-2014*"
   ]
  },
  {
   "cell_type": "markdown",
   "metadata": {},
   "source": [
    "<a id='background'></a>\n",
    "\n",
    "## Background & Prior Work"
   ]
  },
  {
   "cell_type": "markdown",
   "metadata": {},
   "source": [
    "All of the members in our group are or have been involved with work in health-related areas, and therefore, as a group, we agreed to work on a project that would address the topic of societal and community wellbeing.\n",
    "In recent years, more and more studies have been examining the topic of global warming, as we witness an increasing amount of evidence of climate change around us. Researchers have discovered a potential link between the rising temperatures and people’s mental health, reflected especially in the rate of people’s suicides, which is one of the top 10-15 causes of deaths globally. [1] \n",
    "\n",
    "A study conducted by Stanford University researchers, which was published in the journal of Nature Climate Change, shows that rising temperatures induce deteriorated mental wellbeing, reflected in people’s rising suicidal rates and expressions of their declining mental wellbeing on social media. Longitudinal data across thousands of counties and municipalities in the United States and Mexico over several decades and over 600 million social media updates are used. What they found is that suicide rates rise 0.7% in U.S. counties and 2.1% in Mexican municipalities for a 1°C increase in monthly average temperature, and the use of “depressive langauge” on social media shares the same pattern with higher local monthly temperatures. [1]\n",
    "\n",
    "Another study published by Cambridge University Press, also looked into the relationship between daily temperature and daily suicide rates in England and Wales from 1993 to 2003. When the temperature was above 18°C, a 1°C increase in mean temperature was associated with a 3.8% and 5.0% rise in suicide and violent suicide respectively. And 75% of the suicides were found to be consistently by men throughout the years. [2]\n",
    "\n",
    "However, as one study in India indicates, even though a 1°C increase above the temperature of 20°C in a single day’s temperature is found to cause an average of 70 suicides, there are also underlying implications of higher temperatures leading to people’s higher suicidal rates, such as by a reduced crop yields during India’s agricultural growing seasons. [3]  \n",
    "\n",
    "Based on the prior work in this area, our group would like to further investigate the specific relationship between temperature fluctuation patterns and suicide rates. \n",
    "\n",
    "\n",
    "References:\n",
    "- 1) https://www.nature.com/articles/s41558-018-0222-x.epdf?referrer_access_token=A9qM8HOuzsaVg4u1HHe6lNRgN0jAjWel9jnR3ZoTv0Od0PBRrqjld84cND8FX46EXQXeVI2E2Repk6was59BX9PDeqt2Z7Otq3pC5-smJOzgioBc34gddJjBjUicxEjPqBP9UM-jOutm6FIoG1sg_7adH_k2fX-WoZnGe2ZTqWcbnv_gmPQunxqENlB6LNFAeh_TvphjhuawiTfRvor5rNiWrPI8IbpOe5Ihui1ezUm2Xo8rmKfMYGxdycdbySxs6n9-K4bCkKLiz58WTZmApj6EAfje5v-FqT2UPa_HkNI%3D&tracking_referrer=www.theatlantic.com\n",
    "- 2) https://www.cambridge.org/core/journals/the-british-journal-of-psychiatry/article/relationship-between-daily-suicide-counts-and-temperature-in-england-and-wales/C74E68D2E180CEADAB7101219DCCB86F\n",
    "- 3) https://www.pnas.org/content/114/33/8746"
   ]
  },
  {
   "cell_type": "markdown",
   "metadata": {},
   "source": [
    "# Hypothesis\n"
   ]
  },
  {
   "cell_type": "markdown",
   "metadata": {},
   "source": [
    "We hypothesize that there is at least a moderately strong correlation between temperature trends and suicide rates in New York City. More specifically, we believe we will see an increase in suicide rates when seasonal temperatures deviate significantly from the typical temperatures seen in those seasons. We make this hypothesis with the knowledge that humans are creatures of habit by and large, and disruptions to the routines and environments that we are accustomed to can cause physiological and psychological change to occur. This volatility may exacerbate some existing physical or mental health issues, precipitating higher suicidal ideation and thus, perhaps, higher rates of suicide. We do not anticipate any significant differences in suicide rates across genders in years where there are abnormally hot or cold seasons."
   ]
  },
  {
   "cell_type": "markdown",
   "metadata": {},
   "source": [
    "# Dataset(s)"
   ]
  },
  {
   "cell_type": "markdown",
   "metadata": {},
   "source": [
    "### Dataset 1\n",
    "- Dataset Name: Suicide counts and rates in New York City 2000-2014\n",
    "- Link to the dataset: https://www1.nyc.gov/assets/doh/downloads/pdf/epi/databrief75.pdf\n",
    "     - 5th page of pdf\n",
    "- Number of observations: 15\n",
    "- Description: Suicide counts in NYC from 2000-2014 and broken down by gender, rate type.\n",
    "\n",
    "### Dataset 2\n",
    "- Dataset Name: Seasonal counts of suicide in New York City 2008-2014 \n",
    "- Link to the dataset: https://www1.nyc.gov/assets/doh/downloads/pdf/epi/databrief75.pdf\n",
    "    - 6th page of pdf\n",
    "- Number of observations: 7\n",
    "- Description: Suicide counts in NYC from 2008-2014 and 4 seasons.\n",
    "\n",
    "### Dataset 3\n",
    "- Dataset Name: New York City Temperature Trends 2008-2010 \n",
    "- Link to the dataset: https://www.climate.gov/maps-data/dataset/past-weather-zip-code-data-table\n",
    "    - Must request air temperature data from NYC as CSV for specified date range\n",
    "- Number of observations: 47733\n",
    "- Description: Daily min/max/avg temperature gathered by the weather stations in New York for the years 2008-2010.\n",
    "\n",
    "### Dataset 4\n",
    "- Dataset Name: New York City Temperature Trends 2011-2013 \n",
    "- Link to the dataset: https://www.climate.gov/maps-data/dataset/past-weather-zip-code-data-table\n",
    "     - Must request air temperature data from NYC as CSV for specified date range\n",
    "- Number of observations: 62131\n",
    "- Description: Daily min/max/avg temperature gathered by the weather stations in New York for the years 2011-2013.\n",
    "\n",
    "### Dataset 5\n",
    "- Dataset Name: New York City Temperature Trends 2014 \n",
    "- Link to the dataset: https://www.climate.gov/maps-data/dataset/past-weather-zip-code-data-table\n",
    "    - Must request air temperature data from NYC as CSV for specified date range\n",
    "- Number of observations: 21809\n",
    "- Description: Daily min/max/avg temperature gathered by the weather stations in New York for the year 2014.\n",
    "\n",
    "### Multiple Datasets/Merge:\n",
    "- Dataset 1 and 2 will be combined to one larger dataset where extra columns will be added as the suicide data pertain to different variables.\n",
    "- Datasets 3, 4, and 5 all track the same variables with different timeframe observations, so they will be combined to one larger dataset that adds more rows. This way we have one dataset that contains the temperature data from 2008 to 2014. "
   ]
  },
  {
   "cell_type": "markdown",
   "metadata": {},
   "source": [
    "# Setup"
   ]
  },
  {
   "cell_type": "code",
   "execution_count": 1,
   "metadata": {},
   "outputs": [],
   "source": [
    "#main imports\n",
    "import pandas as pd\n",
    "import numpy as np\n",
    "import matplotlib.pyplot as plt\n",
    "import seaborn as sns\n",
    "\n",
    "# Statmodels & patsy\n",
    "import patsy\n",
    "import statsmodels.api as sm\n",
    "\n",
    "# Supress all warnings for reader clarity\n",
    "import warnings\n",
    "warnings.filterwarnings(\"ignore\")\n",
    "\n",
    "#getting the suicide data\n",
    "suicide_count_yearly = pd.read_csv(\"Data/Suicide counts and rates in New York City 2000-2014.csv\")\n",
    "suicide_count_seasonal = pd.read_csv(\"Data/Seasonal counts of suicide in New York City 2008-2014.csv\")\n",
    "\n",
    "#getting the temperature data from all 3 datasets\n",
    "dataset_2007 = pd.read_csv(\"Data/2007.csv\")\n",
    "dataset_2008_to_2010 = pd.read_csv(\"Data/2008-10.csv\")\n",
    "dataset_2011_to_2013 = pd.read_csv(\"Data/2011-13.csv\")\n",
    "dataset_2014 = pd.read_csv(\"Data/2014.csv\")"
   ]
  },
  {
   "cell_type": "markdown",
   "metadata": {},
   "source": [
    "# Data Cleaning"
   ]
  },
  {
   "cell_type": "markdown",
   "metadata": {},
   "source": [
    "Initial Suicide Data Cleaning"
   ]
  },
  {
   "cell_type": "code",
   "execution_count": 2,
   "metadata": {},
   "outputs": [
    {
     "data": {
      "text/html": [
       "<div>\n",
       "<style scoped>\n",
       "    .dataframe tbody tr th:only-of-type {\n",
       "        vertical-align: middle;\n",
       "    }\n",
       "\n",
       "    .dataframe tbody tr th {\n",
       "        vertical-align: top;\n",
       "    }\n",
       "\n",
       "    .dataframe thead th {\n",
       "        text-align: right;\n",
       "    }\n",
       "</style>\n",
       "<table border=\"1\" class=\"dataframe\">\n",
       "  <thead>\n",
       "    <tr style=\"text-align: right;\">\n",
       "      <th></th>\n",
       "      <th>Year</th>\n",
       "      <th>Count of Suicides (Total)</th>\n",
       "      <th>Count of suicides (Females)</th>\n",
       "      <th>Count of suicides (Males)</th>\n",
       "      <th>Winter count of suicides (Total)</th>\n",
       "      <th>Spring count of suicides (Total)</th>\n",
       "      <th>Summer count of suicides (Total)</th>\n",
       "      <th>Fall count of suicides (Total)</th>\n",
       "    </tr>\n",
       "  </thead>\n",
       "  <tbody>\n",
       "    <tr>\n",
       "      <th>0</th>\n",
       "      <td>2008</td>\n",
       "      <td>473</td>\n",
       "      <td>125</td>\n",
       "      <td>348</td>\n",
       "      <td>117</td>\n",
       "      <td>143</td>\n",
       "      <td>114</td>\n",
       "      <td>99</td>\n",
       "    </tr>\n",
       "    <tr>\n",
       "      <th>1</th>\n",
       "      <td>2009</td>\n",
       "      <td>475</td>\n",
       "      <td>115</td>\n",
       "      <td>360</td>\n",
       "      <td>129</td>\n",
       "      <td>103</td>\n",
       "      <td>128</td>\n",
       "      <td>115</td>\n",
       "    </tr>\n",
       "    <tr>\n",
       "      <th>2</th>\n",
       "      <td>2010</td>\n",
       "      <td>503</td>\n",
       "      <td>129</td>\n",
       "      <td>374</td>\n",
       "      <td>109</td>\n",
       "      <td>147</td>\n",
       "      <td>141</td>\n",
       "      <td>106</td>\n",
       "    </tr>\n",
       "    <tr>\n",
       "      <th>3</th>\n",
       "      <td>2011</td>\n",
       "      <td>509</td>\n",
       "      <td>128</td>\n",
       "      <td>381</td>\n",
       "      <td>126</td>\n",
       "      <td>133</td>\n",
       "      <td>137</td>\n",
       "      <td>113</td>\n",
       "    </tr>\n",
       "    <tr>\n",
       "      <th>4</th>\n",
       "      <td>2012</td>\n",
       "      <td>557</td>\n",
       "      <td>163</td>\n",
       "      <td>391</td>\n",
       "      <td>126</td>\n",
       "      <td>162</td>\n",
       "      <td>136</td>\n",
       "      <td>133</td>\n",
       "    </tr>\n",
       "    <tr>\n",
       "      <th>5</th>\n",
       "      <td>2013</td>\n",
       "      <td>550</td>\n",
       "      <td>146</td>\n",
       "      <td>404</td>\n",
       "      <td>142</td>\n",
       "      <td>158</td>\n",
       "      <td>133</td>\n",
       "      <td>117</td>\n",
       "    </tr>\n",
       "    <tr>\n",
       "      <th>6</th>\n",
       "      <td>2014</td>\n",
       "      <td>565</td>\n",
       "      <td>172</td>\n",
       "      <td>393</td>\n",
       "      <td>121</td>\n",
       "      <td>167</td>\n",
       "      <td>160</td>\n",
       "      <td>117</td>\n",
       "    </tr>\n",
       "  </tbody>\n",
       "</table>\n",
       "</div>"
      ],
      "text/plain": [
       "   Year  Count of Suicides (Total)  Count of suicides (Females)  \\\n",
       "0  2008                        473                          125   \n",
       "1  2009                        475                          115   \n",
       "2  2010                        503                          129   \n",
       "3  2011                        509                          128   \n",
       "4  2012                        557                          163   \n",
       "5  2013                        550                          146   \n",
       "6  2014                        565                          172   \n",
       "\n",
       "   Count of suicides (Males)  Winter count of suicides (Total)  \\\n",
       "0                        348                               117   \n",
       "1                        360                               129   \n",
       "2                        374                               109   \n",
       "3                        381                               126   \n",
       "4                        391                               126   \n",
       "5                        404                               142   \n",
       "6                        393                               121   \n",
       "\n",
       "   Spring count of suicides (Total)  Summer count of suicides (Total)  \\\n",
       "0                               143                               114   \n",
       "1                               103                               128   \n",
       "2                               147                               141   \n",
       "3                               133                               137   \n",
       "4                               162                               136   \n",
       "5                               158                               133   \n",
       "6                               167                               160   \n",
       "\n",
       "   Fall count of suicides (Total)  \n",
       "0                              99  \n",
       "1                             115  \n",
       "2                             106  \n",
       "3                             113  \n",
       "4                             133  \n",
       "5                             117  \n",
       "6                             117  "
      ]
     },
     "execution_count": 2,
     "metadata": {},
     "output_type": "execute_result"
    }
   ],
   "source": [
    "## Suicide Data Cleaning\n",
    "\n",
    "#the yearly suicide contains data from 2000-2014, we want to filter it out to 2008-2014\n",
    "suicide_count_yearly['Year'] = suicide_count_yearly['Year'].astype(int)\n",
    "suicide_count_yearly = suicide_count_yearly[suicide_count_yearly['Year'] >= 2008]\n",
    "suicide_count_yearly = suicide_count_yearly.reset_index(drop=True)\n",
    "\n",
    "#remove irrelevant columns (crude rate and ageadjusted rate)\n",
    "suicide_count_yearly = suicide_count_yearly.iloc[:,:4]\n",
    "\n",
    "#merge with the seasonal data\n",
    "suicide_dataset = pd.merge(left=suicide_count_yearly, right=suicide_count_seasonal, how='inner')\n",
    "\n",
    "#rename columns\n",
    "new_columns = {'Winter':'Winter count of suicides (Total)', 'Spring':'Spring count of suicides (Total)', \n",
    "               'Summer':'Summer count of suicides (Total)', 'Fall':'Fall count of suicides (Total)'}\n",
    "suicide_dataset = suicide_dataset.rename(new_columns, axis='columns')\n",
    "suicide_dataset"
   ]
  },
  {
   "cell_type": "markdown",
   "metadata": {},
   "source": [
    "### Verifying Integrity of Dataset\n",
    "\n",
    "Verifying Sum of Seasonal Counts to Total Yearly Counts"
   ]
  },
  {
   "cell_type": "code",
   "execution_count": 3,
   "metadata": {},
   "outputs": [
    {
     "name": "stdout",
     "output_type": "stream",
     "text": [
      "Does seasonal suicide count match yearly total count? True\n"
     ]
    }
   ],
   "source": [
    "suicide_data_total_column = suicide_dataset['Count of Suicides (Total)']\n",
    "\n",
    "#sum up seasonal total counts to check if matches yearly total count\n",
    "season_columns = ['Winter count of suicides (Total)', 'Spring count of suicides (Total)', \n",
    "               'Summer count of suicides (Total)', 'Fall count of suicides (Total)']\n",
    "sum_season_counts = suicide_dataset[season_columns].sum(axis=1)\n",
    "print(\"Does seasonal suicide count match yearly total count? \" + str(sum_season_counts.equals(suicide_data_total_column)))"
   ]
  },
  {
   "cell_type": "markdown",
   "metadata": {},
   "source": [
    "Verifying Sum of Gender Counts to Total Yearly Counts"
   ]
  },
  {
   "cell_type": "code",
   "execution_count": 4,
   "metadata": {
    "scrolled": true
   },
   "outputs": [
    {
     "data": {
      "text/html": [
       "<div>\n",
       "<style scoped>\n",
       "    .dataframe tbody tr th:only-of-type {\n",
       "        vertical-align: middle;\n",
       "    }\n",
       "\n",
       "    .dataframe tbody tr th {\n",
       "        vertical-align: top;\n",
       "    }\n",
       "\n",
       "    .dataframe thead th {\n",
       "        text-align: right;\n",
       "    }\n",
       "</style>\n",
       "<table border=\"1\" class=\"dataframe\">\n",
       "  <thead>\n",
       "    <tr style=\"text-align: right;\">\n",
       "      <th></th>\n",
       "      <th>Year</th>\n",
       "      <th>Count of Suicides (Total)</th>\n",
       "      <th>Count of suicides (Females)</th>\n",
       "      <th>Count of suicides (Males)</th>\n",
       "      <th>Winter count of suicides (Total)</th>\n",
       "      <th>Spring count of suicides (Total)</th>\n",
       "      <th>Summer count of suicides (Total)</th>\n",
       "      <th>Fall count of suicides (Total)</th>\n",
       "    </tr>\n",
       "  </thead>\n",
       "  <tbody>\n",
       "    <tr>\n",
       "      <th>4</th>\n",
       "      <td>2012</td>\n",
       "      <td>557</td>\n",
       "      <td>163</td>\n",
       "      <td>391</td>\n",
       "      <td>126</td>\n",
       "      <td>162</td>\n",
       "      <td>136</td>\n",
       "      <td>133</td>\n",
       "    </tr>\n",
       "  </tbody>\n",
       "</table>\n",
       "</div>"
      ],
      "text/plain": [
       "   Year  Count of Suicides (Total)  Count of suicides (Females)  \\\n",
       "4  2012                        557                          163   \n",
       "\n",
       "   Count of suicides (Males)  Winter count of suicides (Total)  \\\n",
       "4                        391                               126   \n",
       "\n",
       "   Spring count of suicides (Total)  Summer count of suicides (Total)  \\\n",
       "4                               162                               136   \n",
       "\n",
       "   Fall count of suicides (Total)  \n",
       "4                             133  "
      ]
     },
     "execution_count": 4,
     "metadata": {},
     "output_type": "execute_result"
    }
   ],
   "source": [
    "#sum up gender specific counts to check if matches total count\n",
    "gender_columns = ['Count of suicides (Females)', 'Count of suicides (Males)']\n",
    "sum_gender_counts = suicide_dataset[gender_columns].sum(axis=1)\n",
    "sum_gender_counts.equals(suicide_data_total_column)\n",
    "\n",
    "##returned False, so checking which observations returned false\n",
    "false_rows = suicide_dataset[sum_gender_counts.eq(suicide_data_total_column) == False]\n",
    "false_rows"
   ]
  },
  {
   "cell_type": "markdown",
   "metadata": {},
   "source": [
    "**Analysis**: For this observation, the count of suicides for females (163) and the count of suicides for males (391) sum up to 554. This is different from the total count of suicides which may be due to human error. However, since $\\frac{557-554}{557}$ < 1%, the margin of error is minimal which means that this observation can be kept.\n",
    "\n"
   ]
  },
  {
   "cell_type": "markdown",
   "metadata": {},
   "source": [
    "### Temperature Data Cleaning\n",
    "\n",
    "Initial Temperature Data Cleaning"
   ]
  },
  {
   "cell_type": "code",
   "execution_count": 5,
   "metadata": {},
   "outputs": [
    {
     "name": "stdout",
     "output_type": "stream",
     "text": [
      "Any missing data? False\n",
      "Any missing data? False\n",
      "Any missing data? False\n"
     ]
    }
   ],
   "source": [
    "#combine temperature datasets to get one dataframe with data from 2008-2014\n",
    "temperature_data = pd.concat([dataset_2007, dataset_2008_to_2010, dataset_2011_to_2013, dataset_2014], sort=True)\n",
    "\n",
    "#remove irrelevant columns (TAVG, NAME, TOBS)\n",
    "temperature_data = temperature_data.drop(['TAVG','TOBS'], axis=1)\n",
    "\n",
    "#remove stations not in New York\n",
    "temperature_data = temperature_data[temperature_data.NAME.str.contains(\"NY US\")]\n",
    "\n",
    "#filter stations where there are observations with no recorded TMAX and TMIN in timeframe\n",
    "max_observations = temperature_data['NAME'].value_counts().max()\n",
    "highest_observation_stations = temperature_data['NAME'].value_counts() == max_observations\n",
    "highest_observation_stations = highest_observation_stations.index[highest_observation_stations]\n",
    "\n",
    "#separate all highest observation stations into separate DataFrames\n",
    "stations = []\n",
    "for station in highest_observation_stations:\n",
    "    stations.append(temperature_data[temperature_data['NAME'] == station])\n",
    "\n",
    "#check for missing data \n",
    "for s in stations:\n",
    "    print(\"Any missing data? \" + str(s.isnull().values.any()))"
   ]
  },
  {
   "cell_type": "markdown",
   "metadata": {},
   "source": [
    "**Analysis**: There is no missing data in the stations that had the highest observation counts. However, this does not mean that everyday in between 2008 and 2014 had a recorded observation as they could have coincidentally had the same amount of missing days. Thus, we will verify by comparing number of observations with number of days in those 4 years."
   ]
  },
  {
   "cell_type": "code",
   "execution_count": 6,
   "metadata": {},
   "outputs": [
    {
     "name": "stdout",
     "output_type": "stream",
     "text": [
      "No Duplicate Date: True\n",
      "No Duplicate Date: True\n",
      "No Duplicate Date: True\n",
      "Does total number of days match observation count: True\n"
     ]
    }
   ],
   "source": [
    "#check each station for duplicate dates\n",
    "for s in stations:\n",
    "    print(\"No Duplicate Date: \" + str(s[\"DATE\"].is_unique))\n",
    "    \n",
    "#calculate total number of days between 2007-2014.\n",
    "from datetime import date\n",
    "f_date = date(2007, 12, 1)\n",
    "l_date = date(2015, 1, 1) #up to and not including 1/1/2015\n",
    "day_count = (l_date - f_date).days\n",
    "\n",
    "print(\"Does total number of days match observation count: \" + str(day_count == max_observations))"
   ]
  },
  {
   "cell_type": "markdown",
   "metadata": {},
   "source": [
    "**Analysis**: Now that we have cleaned and verified each station's data, we will now assign each station to a variable for easier analysis."
   ]
  },
  {
   "cell_type": "code",
   "execution_count": 7,
   "metadata": {},
   "outputs": [
    {
     "data": {
      "text/html": [
       "<div>\n",
       "<style scoped>\n",
       "    .dataframe tbody tr th:only-of-type {\n",
       "        vertical-align: middle;\n",
       "    }\n",
       "\n",
       "    .dataframe tbody tr th {\n",
       "        vertical-align: top;\n",
       "    }\n",
       "\n",
       "    .dataframe thead th {\n",
       "        text-align: right;\n",
       "    }\n",
       "</style>\n",
       "<table border=\"1\" class=\"dataframe\">\n",
       "  <thead>\n",
       "    <tr style=\"text-align: right;\">\n",
       "      <th></th>\n",
       "      <th>DATE</th>\n",
       "      <th>NAME</th>\n",
       "      <th>STATION</th>\n",
       "      <th>TMAX</th>\n",
       "      <th>TMIN</th>\n",
       "    </tr>\n",
       "  </thead>\n",
       "  <tbody>\n",
       "    <tr>\n",
       "      <th>0</th>\n",
       "      <td>2007-12-01</td>\n",
       "      <td>JFK INTERNATIONAL AIRPORT, NY US</td>\n",
       "      <td>USW00094789</td>\n",
       "      <td>39.0</td>\n",
       "      <td>25.0</td>\n",
       "    </tr>\n",
       "    <tr>\n",
       "      <th>1</th>\n",
       "      <td>2007-12-02</td>\n",
       "      <td>JFK INTERNATIONAL AIRPORT, NY US</td>\n",
       "      <td>USW00094789</td>\n",
       "      <td>47.0</td>\n",
       "      <td>20.0</td>\n",
       "    </tr>\n",
       "    <tr>\n",
       "      <th>2</th>\n",
       "      <td>2007-12-03</td>\n",
       "      <td>JFK INTERNATIONAL AIRPORT, NY US</td>\n",
       "      <td>USW00094789</td>\n",
       "      <td>50.0</td>\n",
       "      <td>33.0</td>\n",
       "    </tr>\n",
       "    <tr>\n",
       "      <th>3</th>\n",
       "      <td>2007-12-04</td>\n",
       "      <td>JFK INTERNATIONAL AIRPORT, NY US</td>\n",
       "      <td>USW00094789</td>\n",
       "      <td>36.0</td>\n",
       "      <td>29.0</td>\n",
       "    </tr>\n",
       "    <tr>\n",
       "      <th>4</th>\n",
       "      <td>2007-12-05</td>\n",
       "      <td>JFK INTERNATIONAL AIRPORT, NY US</td>\n",
       "      <td>USW00094789</td>\n",
       "      <td>33.0</td>\n",
       "      <td>28.0</td>\n",
       "    </tr>\n",
       "    <tr>\n",
       "      <th>...</th>\n",
       "      <td>...</td>\n",
       "      <td>...</td>\n",
       "      <td>...</td>\n",
       "      <td>...</td>\n",
       "      <td>...</td>\n",
       "    </tr>\n",
       "    <tr>\n",
       "      <th>2583</th>\n",
       "      <td>2014-12-27</td>\n",
       "      <td>JFK INTERNATIONAL AIRPORT, NY US</td>\n",
       "      <td>USW00094789</td>\n",
       "      <td>54.0</td>\n",
       "      <td>37.0</td>\n",
       "    </tr>\n",
       "    <tr>\n",
       "      <th>2584</th>\n",
       "      <td>2014-12-28</td>\n",
       "      <td>JFK INTERNATIONAL AIRPORT, NY US</td>\n",
       "      <td>USW00094789</td>\n",
       "      <td>54.0</td>\n",
       "      <td>42.0</td>\n",
       "    </tr>\n",
       "    <tr>\n",
       "      <th>2585</th>\n",
       "      <td>2014-12-29</td>\n",
       "      <td>JFK INTERNATIONAL AIRPORT, NY US</td>\n",
       "      <td>USW00094789</td>\n",
       "      <td>46.0</td>\n",
       "      <td>35.0</td>\n",
       "    </tr>\n",
       "    <tr>\n",
       "      <th>2586</th>\n",
       "      <td>2014-12-30</td>\n",
       "      <td>JFK INTERNATIONAL AIRPORT, NY US</td>\n",
       "      <td>USW00094789</td>\n",
       "      <td>36.0</td>\n",
       "      <td>28.0</td>\n",
       "    </tr>\n",
       "    <tr>\n",
       "      <th>2587</th>\n",
       "      <td>2014-12-31</td>\n",
       "      <td>JFK INTERNATIONAL AIRPORT, NY US</td>\n",
       "      <td>USW00094789</td>\n",
       "      <td>34.0</td>\n",
       "      <td>28.0</td>\n",
       "    </tr>\n",
       "  </tbody>\n",
       "</table>\n",
       "<p>2588 rows × 5 columns</p>\n",
       "</div>"
      ],
      "text/plain": [
       "            DATE                              NAME      STATION  TMAX  TMIN\n",
       "0     2007-12-01  JFK INTERNATIONAL AIRPORT, NY US  USW00094789  39.0  25.0\n",
       "1     2007-12-02  JFK INTERNATIONAL AIRPORT, NY US  USW00094789  47.0  20.0\n",
       "2     2007-12-03  JFK INTERNATIONAL AIRPORT, NY US  USW00094789  50.0  33.0\n",
       "3     2007-12-04  JFK INTERNATIONAL AIRPORT, NY US  USW00094789  36.0  29.0\n",
       "4     2007-12-05  JFK INTERNATIONAL AIRPORT, NY US  USW00094789  33.0  28.0\n",
       "...          ...                               ...          ...   ...   ...\n",
       "2583  2014-12-27  JFK INTERNATIONAL AIRPORT, NY US  USW00094789  54.0  37.0\n",
       "2584  2014-12-28  JFK INTERNATIONAL AIRPORT, NY US  USW00094789  54.0  42.0\n",
       "2585  2014-12-29  JFK INTERNATIONAL AIRPORT, NY US  USW00094789  46.0  35.0\n",
       "2586  2014-12-30  JFK INTERNATIONAL AIRPORT, NY US  USW00094789  36.0  28.0\n",
       "2587  2014-12-31  JFK INTERNATIONAL AIRPORT, NY US  USW00094789  34.0  28.0\n",
       "\n",
       "[2588 rows x 5 columns]"
      ]
     },
     "metadata": {},
     "output_type": "display_data"
    },
    {
     "data": {
      "text/html": [
       "<div>\n",
       "<style scoped>\n",
       "    .dataframe tbody tr th:only-of-type {\n",
       "        vertical-align: middle;\n",
       "    }\n",
       "\n",
       "    .dataframe tbody tr th {\n",
       "        vertical-align: top;\n",
       "    }\n",
       "\n",
       "    .dataframe thead th {\n",
       "        text-align: right;\n",
       "    }\n",
       "</style>\n",
       "<table border=\"1\" class=\"dataframe\">\n",
       "  <thead>\n",
       "    <tr style=\"text-align: right;\">\n",
       "      <th></th>\n",
       "      <th>DATE</th>\n",
       "      <th>NAME</th>\n",
       "      <th>STATION</th>\n",
       "      <th>TMAX</th>\n",
       "      <th>TMIN</th>\n",
       "    </tr>\n",
       "  </thead>\n",
       "  <tbody>\n",
       "    <tr>\n",
       "      <th>0</th>\n",
       "      <td>2007-12-01</td>\n",
       "      <td>LAGUARDIA AIRPORT, NY US</td>\n",
       "      <td>USW00014732</td>\n",
       "      <td>42.0</td>\n",
       "      <td>26.0</td>\n",
       "    </tr>\n",
       "    <tr>\n",
       "      <th>1</th>\n",
       "      <td>2007-12-02</td>\n",
       "      <td>LAGUARDIA AIRPORT, NY US</td>\n",
       "      <td>USW00014732</td>\n",
       "      <td>38.0</td>\n",
       "      <td>21.0</td>\n",
       "    </tr>\n",
       "    <tr>\n",
       "      <th>2</th>\n",
       "      <td>2007-12-03</td>\n",
       "      <td>LAGUARDIA AIRPORT, NY US</td>\n",
       "      <td>USW00014732</td>\n",
       "      <td>49.0</td>\n",
       "      <td>34.0</td>\n",
       "    </tr>\n",
       "    <tr>\n",
       "      <th>3</th>\n",
       "      <td>2007-12-04</td>\n",
       "      <td>LAGUARDIA AIRPORT, NY US</td>\n",
       "      <td>USW00014732</td>\n",
       "      <td>35.0</td>\n",
       "      <td>30.0</td>\n",
       "    </tr>\n",
       "    <tr>\n",
       "      <th>4</th>\n",
       "      <td>2007-12-05</td>\n",
       "      <td>LAGUARDIA AIRPORT, NY US</td>\n",
       "      <td>USW00014732</td>\n",
       "      <td>34.0</td>\n",
       "      <td>29.0</td>\n",
       "    </tr>\n",
       "    <tr>\n",
       "      <th>...</th>\n",
       "      <td>...</td>\n",
       "      <td>...</td>\n",
       "      <td>...</td>\n",
       "      <td>...</td>\n",
       "      <td>...</td>\n",
       "    </tr>\n",
       "    <tr>\n",
       "      <th>2583</th>\n",
       "      <td>2014-12-27</td>\n",
       "      <td>LAGUARDIA AIRPORT, NY US</td>\n",
       "      <td>USW00014732</td>\n",
       "      <td>55.0</td>\n",
       "      <td>42.0</td>\n",
       "    </tr>\n",
       "    <tr>\n",
       "      <th>2584</th>\n",
       "      <td>2014-12-28</td>\n",
       "      <td>LAGUARDIA AIRPORT, NY US</td>\n",
       "      <td>USW00014732</td>\n",
       "      <td>52.0</td>\n",
       "      <td>42.0</td>\n",
       "    </tr>\n",
       "    <tr>\n",
       "      <th>2585</th>\n",
       "      <td>2014-12-29</td>\n",
       "      <td>LAGUARDIA AIRPORT, NY US</td>\n",
       "      <td>USW00014732</td>\n",
       "      <td>44.0</td>\n",
       "      <td>35.0</td>\n",
       "    </tr>\n",
       "    <tr>\n",
       "      <th>2586</th>\n",
       "      <td>2014-12-30</td>\n",
       "      <td>LAGUARDIA AIRPORT, NY US</td>\n",
       "      <td>USW00014732</td>\n",
       "      <td>35.0</td>\n",
       "      <td>28.0</td>\n",
       "    </tr>\n",
       "    <tr>\n",
       "      <th>2587</th>\n",
       "      <td>2014-12-31</td>\n",
       "      <td>LAGUARDIA AIRPORT, NY US</td>\n",
       "      <td>USW00014732</td>\n",
       "      <td>32.0</td>\n",
       "      <td>27.0</td>\n",
       "    </tr>\n",
       "  </tbody>\n",
       "</table>\n",
       "<p>2588 rows × 5 columns</p>\n",
       "</div>"
      ],
      "text/plain": [
       "            DATE                      NAME      STATION  TMAX  TMIN\n",
       "0     2007-12-01  LAGUARDIA AIRPORT, NY US  USW00014732  42.0  26.0\n",
       "1     2007-12-02  LAGUARDIA AIRPORT, NY US  USW00014732  38.0  21.0\n",
       "2     2007-12-03  LAGUARDIA AIRPORT, NY US  USW00014732  49.0  34.0\n",
       "3     2007-12-04  LAGUARDIA AIRPORT, NY US  USW00014732  35.0  30.0\n",
       "4     2007-12-05  LAGUARDIA AIRPORT, NY US  USW00014732  34.0  29.0\n",
       "...          ...                       ...          ...   ...   ...\n",
       "2583  2014-12-27  LAGUARDIA AIRPORT, NY US  USW00014732  55.0  42.0\n",
       "2584  2014-12-28  LAGUARDIA AIRPORT, NY US  USW00014732  52.0  42.0\n",
       "2585  2014-12-29  LAGUARDIA AIRPORT, NY US  USW00014732  44.0  35.0\n",
       "2586  2014-12-30  LAGUARDIA AIRPORT, NY US  USW00014732  35.0  28.0\n",
       "2587  2014-12-31  LAGUARDIA AIRPORT, NY US  USW00014732  32.0  27.0\n",
       "\n",
       "[2588 rows x 5 columns]"
      ]
     },
     "metadata": {},
     "output_type": "display_data"
    },
    {
     "data": {
      "text/html": [
       "<div>\n",
       "<style scoped>\n",
       "    .dataframe tbody tr th:only-of-type {\n",
       "        vertical-align: middle;\n",
       "    }\n",
       "\n",
       "    .dataframe tbody tr th {\n",
       "        vertical-align: top;\n",
       "    }\n",
       "\n",
       "    .dataframe thead th {\n",
       "        text-align: right;\n",
       "    }\n",
       "</style>\n",
       "<table border=\"1\" class=\"dataframe\">\n",
       "  <thead>\n",
       "    <tr style=\"text-align: right;\">\n",
       "      <th></th>\n",
       "      <th>DATE</th>\n",
       "      <th>NAME</th>\n",
       "      <th>STATION</th>\n",
       "      <th>TMAX</th>\n",
       "      <th>TMIN</th>\n",
       "    </tr>\n",
       "  </thead>\n",
       "  <tbody>\n",
       "    <tr>\n",
       "      <th>0</th>\n",
       "      <td>2007-12-01</td>\n",
       "      <td>NY CITY CENTRAL PARK, NY US</td>\n",
       "      <td>USW00094728</td>\n",
       "      <td>38.0</td>\n",
       "      <td>25.0</td>\n",
       "    </tr>\n",
       "    <tr>\n",
       "      <th>1</th>\n",
       "      <td>2007-12-02</td>\n",
       "      <td>NY CITY CENTRAL PARK, NY US</td>\n",
       "      <td>USW00094728</td>\n",
       "      <td>36.0</td>\n",
       "      <td>20.0</td>\n",
       "    </tr>\n",
       "    <tr>\n",
       "      <th>2</th>\n",
       "      <td>2007-12-03</td>\n",
       "      <td>NY CITY CENTRAL PARK, NY US</td>\n",
       "      <td>USW00094728</td>\n",
       "      <td>47.0</td>\n",
       "      <td>32.0</td>\n",
       "    </tr>\n",
       "    <tr>\n",
       "      <th>3</th>\n",
       "      <td>2007-12-04</td>\n",
       "      <td>NY CITY CENTRAL PARK, NY US</td>\n",
       "      <td>USW00094728</td>\n",
       "      <td>34.0</td>\n",
       "      <td>28.0</td>\n",
       "    </tr>\n",
       "    <tr>\n",
       "      <th>4</th>\n",
       "      <td>2007-12-05</td>\n",
       "      <td>NY CITY CENTRAL PARK, NY US</td>\n",
       "      <td>USW00094728</td>\n",
       "      <td>33.0</td>\n",
       "      <td>28.0</td>\n",
       "    </tr>\n",
       "    <tr>\n",
       "      <th>...</th>\n",
       "      <td>...</td>\n",
       "      <td>...</td>\n",
       "      <td>...</td>\n",
       "      <td>...</td>\n",
       "      <td>...</td>\n",
       "    </tr>\n",
       "    <tr>\n",
       "      <th>2583</th>\n",
       "      <td>2014-12-27</td>\n",
       "      <td>NY CITY CENTRAL PARK, NY US</td>\n",
       "      <td>USW00094728</td>\n",
       "      <td>55.0</td>\n",
       "      <td>44.0</td>\n",
       "    </tr>\n",
       "    <tr>\n",
       "      <th>2584</th>\n",
       "      <td>2014-12-28</td>\n",
       "      <td>NY CITY CENTRAL PARK, NY US</td>\n",
       "      <td>USW00094728</td>\n",
       "      <td>54.0</td>\n",
       "      <td>43.0</td>\n",
       "    </tr>\n",
       "    <tr>\n",
       "      <th>2585</th>\n",
       "      <td>2014-12-29</td>\n",
       "      <td>NY CITY CENTRAL PARK, NY US</td>\n",
       "      <td>USW00094728</td>\n",
       "      <td>44.0</td>\n",
       "      <td>34.0</td>\n",
       "    </tr>\n",
       "    <tr>\n",
       "      <th>2586</th>\n",
       "      <td>2014-12-30</td>\n",
       "      <td>NY CITY CENTRAL PARK, NY US</td>\n",
       "      <td>USW00094728</td>\n",
       "      <td>34.0</td>\n",
       "      <td>28.0</td>\n",
       "    </tr>\n",
       "    <tr>\n",
       "      <th>2587</th>\n",
       "      <td>2014-12-31</td>\n",
       "      <td>NY CITY CENTRAL PARK, NY US</td>\n",
       "      <td>USW00094728</td>\n",
       "      <td>32.0</td>\n",
       "      <td>27.0</td>\n",
       "    </tr>\n",
       "  </tbody>\n",
       "</table>\n",
       "<p>2588 rows × 5 columns</p>\n",
       "</div>"
      ],
      "text/plain": [
       "            DATE                         NAME      STATION  TMAX  TMIN\n",
       "0     2007-12-01  NY CITY CENTRAL PARK, NY US  USW00094728  38.0  25.0\n",
       "1     2007-12-02  NY CITY CENTRAL PARK, NY US  USW00094728  36.0  20.0\n",
       "2     2007-12-03  NY CITY CENTRAL PARK, NY US  USW00094728  47.0  32.0\n",
       "3     2007-12-04  NY CITY CENTRAL PARK, NY US  USW00094728  34.0  28.0\n",
       "4     2007-12-05  NY CITY CENTRAL PARK, NY US  USW00094728  33.0  28.0\n",
       "...          ...                          ...          ...   ...   ...\n",
       "2583  2014-12-27  NY CITY CENTRAL PARK, NY US  USW00094728  55.0  44.0\n",
       "2584  2014-12-28  NY CITY CENTRAL PARK, NY US  USW00094728  54.0  43.0\n",
       "2585  2014-12-29  NY CITY CENTRAL PARK, NY US  USW00094728  44.0  34.0\n",
       "2586  2014-12-30  NY CITY CENTRAL PARK, NY US  USW00094728  34.0  28.0\n",
       "2587  2014-12-31  NY CITY CENTRAL PARK, NY US  USW00094728  32.0  27.0\n",
       "\n",
       "[2588 rows x 5 columns]"
      ]
     },
     "metadata": {},
     "output_type": "display_data"
    }
   ],
   "source": [
    "station1 = stations[0].reset_index(drop=True)\n",
    "station2 = stations[1].reset_index(drop=True)\n",
    "station3 = stations[2].reset_index(drop=True)\n",
    "display(station1)\n",
    "display(station2)\n",
    "display(station3)"
   ]
  },
  {
   "cell_type": "code",
   "execution_count": 8,
   "metadata": {},
   "outputs": [],
   "source": [
    "#create a new dataframe that averages all 3 stations to get a holistic NYC temperature data\n",
    "combined = pd.DataFrame()\n",
    "\n",
    "combined['DATE'] = station1['DATE']\n",
    "combined['TMAX'] = (station1['TMAX'] + station2['TMAX'] + station3['TMAX']) / 3\n",
    "combined['TMIN'] = (station1['TMIN'] + station2['TMIN'] + station3['TMIN']) / 3\n",
    "combined['TAVG'] = (combined['TMAX'] + combined['TMIN']) / 2"
   ]
  },
  {
   "cell_type": "markdown",
   "metadata": {},
   "source": [
    "# Data Analysis & Results"
   ]
  },
  {
   "cell_type": "markdown",
   "metadata": {},
   "source": [
    "### Part 1 : Do suicide rates in a given season differ when average temperatures in that season deviate from typical* seasonal temperatures?"
   ]
  },
  {
   "cell_type": "markdown",
   "metadata": {},
   "source": [
    "Create a function that takes in a dataframe and prepares the seasonal data which we will use to analyze"
   ]
  },
  {
   "cell_type": "code",
   "execution_count": 9,
   "metadata": {},
   "outputs": [],
   "source": [
    "#function that will add seasonal data and suicide data for a given dataframe\n",
    "def calculate_seasonal_data(station):\n",
    "    station = station.set_index(['DATE'])\n",
    "    column_names = ['Year', \n",
    "                    'Winter (TMAX)', 'Winter (TMIN)', 'Winter (TAVG)', 'Winter (DEV)',\n",
    "                    'Spring (TMAX)', 'Spring (TMIN)', 'Spring (TAVG)', 'Spring (DEV)',\n",
    "                    'Summer (TMAX)', 'Summer (TMIN)', 'Summer (TAVG)', 'Summer (DEV)',\n",
    "                    'Fall (TMAX)', 'Fall (TMIN)', 'Fall (TAVG)', 'Fall (DEV)']\n",
    "    station_season_avg = pd.DataFrame(columns = column_names)\n",
    "    \n",
    "    #calculate seasonal average and extremes\n",
    "    for i in range(7):\n",
    "        year = str(2008 + i)\n",
    "        station_season_avg = station_season_avg.append({'Year':year}, ignore_index=True)\n",
    "\n",
    "        station_season_avg.at[i, 'Winter (TAVG)'] = station.loc[str(2007 + i) + '-12-01': year + '-02-28']['TAVG'].mean()\n",
    "        station_season_avg.at[i, 'Spring (TAVG)'] = station.loc[year + '-03-01':year + '-5-31']['TAVG'].mean()\n",
    "        station_season_avg.at[i, 'Summer (TAVG)'] = station.loc[year + '-06-01':year + '-08-31']['TAVG'].mean()\n",
    "        station_season_avg.at[i, 'Fall (TAVG)'] = station.loc[year + '-09-01':year + '-11-31']['TAVG'].mean()\n",
    "\n",
    "        station_season_avg.at[i, 'Winter (TMAX)'] = station.loc[str(2007 + i) + '-12-01': year + '-02-28']['TMAX'].max()\n",
    "        station_season_avg.at[i, 'Spring (TMAX)'] = station.loc[year + '-03-01':year + '-5-31']['TMAX'].max()\n",
    "        station_season_avg.at[i, 'Summer (TMAX)'] = station.loc[year + '-06-01':year + '-08-31']['TMAX'].max()\n",
    "        station_season_avg.at[i, 'Fall (TMAX)'] = station.loc[year + '-09-01':year + '-11-31']['TMAX'].max()\n",
    "\n",
    "        station_season_avg.at[i, 'Winter (TMIN)'] = station.loc[str(2007 + i) + '-12-01': year + '-02-28']['TMIN'].min()\n",
    "        station_season_avg.at[i, 'Spring (TMIN)'] = station.loc[year + '-03-01':year + '-5-31']['TMIN'].min()\n",
    "        station_season_avg.at[i, 'Summer (TMIN)'] = station.loc[year + '-06-01':year + '-08-31']['TMIN'].min()\n",
    "        station_season_avg.at[i, 'Fall (TMIN)'] = station.loc[year + '-09-01':year + '-11-31']['TMIN'].min()\n",
    "    \n",
    "    winter_mean = station_season_avg['Winter (TAVG)'].mean()\n",
    "    spring_mean = station_season_avg['Spring (TAVG)'].mean()\n",
    "    summer_mean = station_season_avg['Summer (TAVG)'].mean()\n",
    "    fall_mean = station_season_avg['Fall (TAVG)'].mean()\n",
    "    \n",
    "    #calculate deviation \n",
    "    for i in range(7):\n",
    "        station_season_avg.at[i, 'Winter (DEV)'] = station_season_avg.at[i, 'Winter (TAVG)'] - winter_mean\n",
    "        station_season_avg.at[i, 'Spring (DEV)'] = station_season_avg.at[i, 'Spring (TAVG)'] - spring_mean\n",
    "        station_season_avg.at[i, 'Summer (DEV)'] = station_season_avg.at[i, 'Summer (TAVG)'] - summer_mean\n",
    "        station_season_avg.at[i, 'Fall (DEV)'] = station_season_avg.at[i, 'Fall (TAVG)'] - fall_mean\n",
    "    \n",
    "    #include suicide by season \n",
    "    col = suicide_dataset.columns.values.tolist()[1:]\n",
    "    station_season_avg = station_season_avg.join(suicide_dataset[col])\n",
    "    \n",
    "    return station_season_avg"
   ]
  },
  {
   "cell_type": "markdown",
   "metadata": {},
   "source": [
    "Create and display new seasonal dataframe"
   ]
  },
  {
   "cell_type": "code",
   "execution_count": 10,
   "metadata": {},
   "outputs": [
    {
     "data": {
      "text/html": [
       "<div>\n",
       "<style scoped>\n",
       "    .dataframe tbody tr th:only-of-type {\n",
       "        vertical-align: middle;\n",
       "    }\n",
       "\n",
       "    .dataframe tbody tr th {\n",
       "        vertical-align: top;\n",
       "    }\n",
       "\n",
       "    .dataframe thead th {\n",
       "        text-align: right;\n",
       "    }\n",
       "</style>\n",
       "<table border=\"1\" class=\"dataframe\">\n",
       "  <thead>\n",
       "    <tr style=\"text-align: right;\">\n",
       "      <th></th>\n",
       "      <th>Year</th>\n",
       "      <th>Winter (TMAX)</th>\n",
       "      <th>Winter (TMIN)</th>\n",
       "      <th>Winter (TAVG)</th>\n",
       "      <th>Winter (DEV)</th>\n",
       "      <th>Spring (TMAX)</th>\n",
       "      <th>Spring (TMIN)</th>\n",
       "      <th>Spring (TAVG)</th>\n",
       "      <th>Spring (DEV)</th>\n",
       "      <th>Summer (TMAX)</th>\n",
       "      <th>...</th>\n",
       "      <th>Fall (TMIN)</th>\n",
       "      <th>Fall (TAVG)</th>\n",
       "      <th>Fall (DEV)</th>\n",
       "      <th>Count of Suicides (Total)</th>\n",
       "      <th>Count of suicides (Females)</th>\n",
       "      <th>Count of suicides (Males)</th>\n",
       "      <th>Winter count of suicides (Total)</th>\n",
       "      <th>Spring count of suicides (Total)</th>\n",
       "      <th>Summer count of suicides (Total)</th>\n",
       "      <th>Fall count of suicides (Total)</th>\n",
       "    </tr>\n",
       "  </thead>\n",
       "  <tbody>\n",
       "    <tr>\n",
       "      <th>0</th>\n",
       "      <td>2008</td>\n",
       "      <td>68</td>\n",
       "      <td>11</td>\n",
       "      <td>36.8222</td>\n",
       "      <td>1.2627</td>\n",
       "      <td>96.6667</td>\n",
       "      <td>13.6667</td>\n",
       "      <td>59.3513</td>\n",
       "      <td>-0.67507</td>\n",
       "      <td>96.6667</td>\n",
       "      <td>...</td>\n",
       "      <td>24</td>\n",
       "      <td>57.3022</td>\n",
       "      <td>-1.06175</td>\n",
       "      <td>473</td>\n",
       "      <td>125</td>\n",
       "      <td>348</td>\n",
       "      <td>117</td>\n",
       "      <td>143</td>\n",
       "      <td>114</td>\n",
       "      <td>99</td>\n",
       "    </tr>\n",
       "    <tr>\n",
       "      <th>1</th>\n",
       "      <td>2009</td>\n",
       "      <td>64.6667</td>\n",
       "      <td>7</td>\n",
       "      <td>34.4352</td>\n",
       "      <td>-1.12434</td>\n",
       "      <td>92.3333</td>\n",
       "      <td>13</td>\n",
       "      <td>58.567</td>\n",
       "      <td>-1.45938</td>\n",
       "      <td>92.3333</td>\n",
       "      <td>...</td>\n",
       "      <td>35.3333</td>\n",
       "      <td>58.0458</td>\n",
       "      <td>-0.318158</td>\n",
       "      <td>475</td>\n",
       "      <td>115</td>\n",
       "      <td>360</td>\n",
       "      <td>129</td>\n",
       "      <td>103</td>\n",
       "      <td>128</td>\n",
       "      <td>115</td>\n",
       "    </tr>\n",
       "    <tr>\n",
       "      <th>2</th>\n",
       "      <td>2010</td>\n",
       "      <td>66</td>\n",
       "      <td>13.6667</td>\n",
       "      <td>34.0852</td>\n",
       "      <td>-1.47434</td>\n",
       "      <td>102.333</td>\n",
       "      <td>19.3333</td>\n",
       "      <td>61.6176</td>\n",
       "      <td>1.59127</td>\n",
       "      <td>102.333</td>\n",
       "      <td>...</td>\n",
       "      <td>35</td>\n",
       "      <td>59.5495</td>\n",
       "      <td>1.1855</td>\n",
       "      <td>503</td>\n",
       "      <td>129</td>\n",
       "      <td>374</td>\n",
       "      <td>109</td>\n",
       "      <td>147</td>\n",
       "      <td>141</td>\n",
       "      <td>106</td>\n",
       "    </tr>\n",
       "    <tr>\n",
       "      <th>3</th>\n",
       "      <td>2011</td>\n",
       "      <td>67</td>\n",
       "      <td>7</td>\n",
       "      <td>33.1222</td>\n",
       "      <td>-2.4373</td>\n",
       "      <td>103.667</td>\n",
       "      <td>19.6667</td>\n",
       "      <td>60.9434</td>\n",
       "      <td>0.916978</td>\n",
       "      <td>103.667</td>\n",
       "      <td>...</td>\n",
       "      <td>33</td>\n",
       "      <td>59.8278</td>\n",
       "      <td>1.46389</td>\n",
       "      <td>509</td>\n",
       "      <td>128</td>\n",
       "      <td>381</td>\n",
       "      <td>126</td>\n",
       "      <td>133</td>\n",
       "      <td>137</td>\n",
       "      <td>113</td>\n",
       "    </tr>\n",
       "    <tr>\n",
       "      <th>4</th>\n",
       "      <td>2012</td>\n",
       "      <td>63</td>\n",
       "      <td>13.3333</td>\n",
       "      <td>40.4093</td>\n",
       "      <td>4.84974</td>\n",
       "      <td>99</td>\n",
       "      <td>26</td>\n",
       "      <td>61.2936</td>\n",
       "      <td>1.2672</td>\n",
       "      <td>99</td>\n",
       "      <td>...</td>\n",
       "      <td>32</td>\n",
       "      <td>57.6117</td>\n",
       "      <td>-0.752224</td>\n",
       "      <td>557</td>\n",
       "      <td>163</td>\n",
       "      <td>391</td>\n",
       "      <td>126</td>\n",
       "      <td>162</td>\n",
       "      <td>136</td>\n",
       "      <td>133</td>\n",
       "    </tr>\n",
       "    <tr>\n",
       "      <th>5</th>\n",
       "      <td>2013</td>\n",
       "      <td>61</td>\n",
       "      <td>11.6667</td>\n",
       "      <td>37.2481</td>\n",
       "      <td>1.68862</td>\n",
       "      <td>99.3333</td>\n",
       "      <td>19.3333</td>\n",
       "      <td>59.3431</td>\n",
       "      <td>-0.68324</td>\n",
       "      <td>99.3333</td>\n",
       "      <td>...</td>\n",
       "      <td>23.3333</td>\n",
       "      <td>57.8205</td>\n",
       "      <td>-0.543433</td>\n",
       "      <td>550</td>\n",
       "      <td>146</td>\n",
       "      <td>404</td>\n",
       "      <td>142</td>\n",
       "      <td>158</td>\n",
       "      <td>133</td>\n",
       "      <td>117</td>\n",
       "    </tr>\n",
       "    <tr>\n",
       "      <th>6</th>\n",
       "      <td>2014</td>\n",
       "      <td>68</td>\n",
       "      <td>4.66667</td>\n",
       "      <td>32.7944</td>\n",
       "      <td>-2.76508</td>\n",
       "      <td>92.3333</td>\n",
       "      <td>13</td>\n",
       "      <td>59.0686</td>\n",
       "      <td>-0.95775</td>\n",
       "      <td>90.6667</td>\n",
       "      <td>...</td>\n",
       "      <td>22.3333</td>\n",
       "      <td>58.3901</td>\n",
       "      <td>0.0261643</td>\n",
       "      <td>565</td>\n",
       "      <td>172</td>\n",
       "      <td>393</td>\n",
       "      <td>121</td>\n",
       "      <td>167</td>\n",
       "      <td>160</td>\n",
       "      <td>117</td>\n",
       "    </tr>\n",
       "  </tbody>\n",
       "</table>\n",
       "<p>7 rows × 24 columns</p>\n",
       "</div>"
      ],
      "text/plain": [
       "   Year Winter (TMAX) Winter (TMIN) Winter (TAVG) Winter (DEV) Spring (TMAX)  \\\n",
       "0  2008            68            11       36.8222       1.2627       96.6667   \n",
       "1  2009       64.6667             7       34.4352     -1.12434       92.3333   \n",
       "2  2010            66       13.6667       34.0852     -1.47434       102.333   \n",
       "3  2011            67             7       33.1222      -2.4373       103.667   \n",
       "4  2012            63       13.3333       40.4093      4.84974            99   \n",
       "5  2013            61       11.6667       37.2481      1.68862       99.3333   \n",
       "6  2014            68       4.66667       32.7944     -2.76508       92.3333   \n",
       "\n",
       "  Spring (TMIN) Spring (TAVG) Spring (DEV) Summer (TMAX)  ... Fall (TMIN)  \\\n",
       "0       13.6667       59.3513     -0.67507       96.6667  ...          24   \n",
       "1            13        58.567     -1.45938       92.3333  ...     35.3333   \n",
       "2       19.3333       61.6176      1.59127       102.333  ...          35   \n",
       "3       19.6667       60.9434     0.916978       103.667  ...          33   \n",
       "4            26       61.2936       1.2672            99  ...          32   \n",
       "5       19.3333       59.3431     -0.68324       99.3333  ...     23.3333   \n",
       "6            13       59.0686     -0.95775       90.6667  ...     22.3333   \n",
       "\n",
       "  Fall (TAVG) Fall (DEV) Count of Suicides (Total)  \\\n",
       "0     57.3022   -1.06175                       473   \n",
       "1     58.0458  -0.318158                       475   \n",
       "2     59.5495     1.1855                       503   \n",
       "3     59.8278    1.46389                       509   \n",
       "4     57.6117  -0.752224                       557   \n",
       "5     57.8205  -0.543433                       550   \n",
       "6     58.3901  0.0261643                       565   \n",
       "\n",
       "  Count of suicides (Females) Count of suicides (Males)  \\\n",
       "0                         125                       348   \n",
       "1                         115                       360   \n",
       "2                         129                       374   \n",
       "3                         128                       381   \n",
       "4                         163                       391   \n",
       "5                         146                       404   \n",
       "6                         172                       393   \n",
       "\n",
       "  Winter count of suicides (Total)  Spring count of suicides (Total)  \\\n",
       "0                              117                               143   \n",
       "1                              129                               103   \n",
       "2                              109                               147   \n",
       "3                              126                               133   \n",
       "4                              126                               162   \n",
       "5                              142                               158   \n",
       "6                              121                               167   \n",
       "\n",
       "   Summer count of suicides (Total)  Fall count of suicides (Total)  \n",
       "0                               114                              99  \n",
       "1                               128                             115  \n",
       "2                               141                             106  \n",
       "3                               137                             113  \n",
       "4                               136                             133  \n",
       "5                               133                             117  \n",
       "6                               160                             117  \n",
       "\n",
       "[7 rows x 24 columns]"
      ]
     },
     "metadata": {},
     "output_type": "display_data"
    }
   ],
   "source": [
    "#call the function to get the seasonal and suicide data for the given station\n",
    "combined_seasonal_data = calculate_seasonal_data(combined)\n",
    "display(combined_seasonal_data)"
   ]
  },
  {
   "cell_type": "markdown",
   "metadata": {},
   "source": [
    "### Graphs\n",
    "\n",
    "Plot a general trend of temperature deviation across the years to get a better visualization."
   ]
  },
  {
   "cell_type": "code",
   "execution_count": 11,
   "metadata": {},
   "outputs": [
    {
     "data": {
      "text/plain": [
       "<seaborn.axisgrid.FacetGrid at 0x7efe810bb290>"
      ]
     },
     "execution_count": 11,
     "metadata": {},
     "output_type": "execute_result"
    },
    {
     "data": {
      "image/png": "[encoded data removed]",
      "text/plain": [
       "<Figure size 957.525x595.44 with 1 Axes>"
      ]
     },
     "metadata": {
      "needs_background": "light"
     },
     "output_type": "display_data"
    }
   ],
   "source": [
    "#cast as a float in order to display in graph\n",
    "combined_seasonal_data = combined_seasonal_data.astype(float)\n",
    "combined_seasonal_data['Year'] = combined_seasonal_data['Year'].astype(int)\n",
    "\n",
    "#show season temperature data over the years\n",
    "season_avg = ['Year', 'Winter (TAVG)', 'Spring (TAVG)', 'Summer (TAVG)', 'Fall (TAVG)']\n",
    "season_avg = combined_seasonal_data[season_avg]\n",
    "data = season_avg.melt('Year', var_name='',  value_name='Temp (Fahrenheit)')\n",
    "graph = sns.catplot(x=\"Year\", y=\"Temp (Fahrenheit)\", hue='', data=data, kind='point', height=8.27, aspect=11.7/8.27)\n",
    "graph._legend.remove() \n",
    "\n",
    "#show average line across the seasons, as a visual indicator for deviation from total average \n",
    "winter_mean = season_avg['Winter (TAVG)'].mean()\n",
    "spring_mean = season_avg['Spring (TAVG)'].mean()\n",
    "summer_mean = season_avg['Summer (TAVG)'].mean()\n",
    "fall_mean = season_avg['Fall (TAVG)'].mean()\n",
    "\n",
    "graph.map(plt.axhline, y=winter_mean, ls='--', c='black', label='Mean Line')\n",
    "graph.map(plt.annotate, s=\"Winter Mean\", xy=(-0.45,winter_mean-1), color='cornflowerblue')\n",
    "\n",
    "graph.map(plt.axhline, y=spring_mean, ls='--', c='black')\n",
    "graph.map(plt.annotate, s=\"Spring Mean\", xy=(-0.45,spring_mean+0.5), color='orange')\n",
    "\n",
    "graph.map(plt.axhline, y=summer_mean, ls='--', c='black')\n",
    "graph.map(plt.annotate, s=\"Summer Mean\", xy=(-0.45,summer_mean-1.2), color='green')\n",
    "\n",
    "graph.map(plt.axhline, y=fall_mean, ls='--', c='black')\n",
    "graph.map(plt.annotate, s=\"Fall Mean\", xy=(-0.45,fall_mean-1), color='red')\n",
    "plt.legend(loc='center', bbox_to_anchor=(0.5, -0.1), ncol=5)\n",
    "graph.set_axis_labels(\"Year\", \"Temperature (Fahr)\")"
   ]
  },
  {
   "cell_type": "markdown",
   "metadata": {},
   "source": [
    "**Analysis:** On first glance, there appear to be some anomalous years. In particular, Winter 2012 and the Summers of  2009 and 2010 seem worth investigating as we progress through our analysis. "
   ]
  },
  {
   "cell_type": "markdown",
   "metadata": {},
   "source": [
    "Investigate each season and look for large suicide counts with significant deviation values\n",
    "\n"
   ]
  },
  {
   "cell_type": "code",
   "execution_count": 12,
   "metadata": {},
   "outputs": [
    {
     "data": {
      "text/plain": [
       "<seaborn.axisgrid.FacetGrid at 0x7efe70e6c890>"
      ]
     },
     "execution_count": 12,
     "metadata": {},
     "output_type": "execute_result"
    },
    {
     "data": {
      "image/png": "[encoded data removed]",
      "text/plain": [
       "<Figure size 511.25x360 with 1 Axes>"
      ]
     },
     "metadata": {
      "needs_background": "light"
     },
     "output_type": "display_data"
    },
    {
     "data": {
      "image/png": "[encoded data removed]",
      "text/plain": [
       "<Figure size 511.25x360 with 1 Axes>"
      ]
     },
     "metadata": {
      "needs_background": "light"
     },
     "output_type": "display_data"
    },
    {
     "data": {
      "image/png": "[encoded data removed]",
      "text/plain": [
       "<Figure size 514x360 with 1 Axes>"
      ]
     },
     "metadata": {
      "needs_background": "light"
     },
     "output_type": "display_data"
    },
    {
     "data": {
      "image/png": "[encoded data removed]",
      "text/plain": [
       "<Figure size 514x360 with 1 Axes>"
      ]
     },
     "metadata": {
      "needs_background": "light"
     },
     "output_type": "display_data"
    }
   ],
   "source": [
    "season_dev = ['Year', 'Winter (DEV)', 'Spring (DEV)', 'Summer (DEV)', 'Fall (DEV)', \n",
    "              'Winter count of suicides (Total)', 'Spring count of suicides (Total)',\n",
    "             'Summer count of suicides (Total)', 'Fall count of suicides (Total)']\n",
    "season_dev = combined_seasonal_data[season_dev]\n",
    "\n",
    "p = 'bright'\n",
    "sns.lmplot(x='Year', y='Winter count of suicides (Total)', hue='Winter (DEV)', data=season_dev, palette=p)\n",
    "sns.lmplot(x='Year', y='Spring count of suicides (Total)', hue='Spring (DEV)', data=season_dev, palette=p)\n",
    "sns.lmplot(x='Year', y='Summer count of suicides (Total)', hue='Summer (DEV)', data=season_dev, palette=p)\n",
    "sns.lmplot(x='Year', y='Fall count of suicides (Total)', hue='Fall (DEV)', data=season_dev, palette=p)"
   ]
  },
  {
   "cell_type": "markdown",
   "metadata": {},
   "source": [
    "**Analysis:** Within a season, we look at points with a large count of suicides and respectively checked whether or not there was a large deviation. By examining the following graphs, there appears to be no correlation between temperature variance and suicide count in that respective season."
   ]
  },
  {
   "cell_type": "markdown",
   "metadata": {},
   "source": [
    "Create a function for p-val testing"
   ]
  },
  {
   "cell_type": "code",
   "execution_count": 13,
   "metadata": {},
   "outputs": [],
   "source": [
    "# Create function to test p-val\n",
    "def check_p_val(p_val, alpha):\n",
    "    if p_val < alpha:\n",
    "        print('We have evidence to reject the null hypothesis.')\n",
    "    else:\n",
    "        print('We do not have evidence to reject the null hypothesis.')"
   ]
  },
  {
   "cell_type": "markdown",
   "metadata": {},
   "source": [
    "Create a function to model all the seasons"
   ]
  },
  {
   "cell_type": "code",
   "execution_count": 14,
   "metadata": {},
   "outputs": [],
   "source": [
    "def model_season(season):\n",
    "    model_season_df = ['Year', \n",
    "                  f'{season} count of suicides (Total)', \n",
    "                  f'{season} (DEV)']\n",
    "    model_season_df = combined_seasonal_data[model_season_df]\n",
    "    model_season_df[f'{season} (DEV)'] = model_season_df[f'{season} (DEV)'].abs().astype('float')\n",
    "    \n",
    "    renamed = model_season_df.rename(columns={f'{season} count of suicides (Total)' : f'{season}SuicideCount', \n",
    "                       f'{season} (DEV)': f'{season}Dev'})\n",
    "\n",
    "    # We can specify our model matrix using `pastsy`\n",
    "    compare = f'{season}SuicideCount ~ {season}Dev'\n",
    "    outcome, predictors = patsy.dmatrices(compare, renamed)\n",
    "    model = sm.OLS(outcome, predictors)\n",
    "\n",
    "    ## fit the model\n",
    "    results = model.fit()\n",
    "\n",
    "    ## look at the results\n",
    "    print(results.summary())\n",
    "    \n",
    "    return renamed"
   ]
  },
  {
   "cell_type": "code",
   "execution_count": 15,
   "metadata": {},
   "outputs": [
    {
     "name": "stdout",
     "output_type": "stream",
     "text": [
      "                            OLS Regression Results                            \n",
      "==============================================================================\n",
      "Dep. Variable:     WinterSuicideCount   R-squared:                       0.007\n",
      "Model:                            OLS   Adj. R-squared:                 -0.191\n",
      "Method:                 Least Squares   F-statistic:                   0.03654\n",
      "Date:                Mon, 15 Mar 2021   Prob (F-statistic):              0.856\n",
      "Time:                        14:12:45   Log-Likelihood:                -25.708\n",
      "No. Observations:                   7   AIC:                             55.42\n",
      "Df Residuals:                       5   BIC:                             55.31\n",
      "Df Model:                           1                                         \n",
      "Covariance Type:            nonrobust                                         \n",
      "==============================================================================\n",
      "                 coef    std err          t      P>|t|      [0.025      0.975]\n",
      "------------------------------------------------------------------------------\n",
      "Intercept    122.7836      8.938     13.738      0.000      99.808     145.759\n",
      "WinterDev      0.6739      3.525      0.191      0.856      -8.389       9.737\n",
      "==============================================================================\n",
      "Omnibus:                          nan   Durbin-Watson:                   2.562\n",
      "Prob(Omnibus):                    nan   Jarque-Bera (JB):                0.221\n",
      "Skew:                           0.415   Prob(JB):                        0.895\n",
      "Kurtosis:                       2.736   Cond. No.                         5.98\n",
      "==============================================================================\n",
      "\n",
      "Warnings:\n",
      "[1] Standard Errors assume that the covariance matrix of the errors is correctly specified.\n"
     ]
    }
   ],
   "source": [
    "winter_model = model_season(\"Winter\")"
   ]
  },
  {
   "cell_type": "code",
   "execution_count": 16,
   "metadata": {},
   "outputs": [
    {
     "name": "stdout",
     "output_type": "stream",
     "text": [
      "                            OLS Regression Results                            \n",
      "==============================================================================\n",
      "Dep. Variable:     SpringSuicideCount   R-squared:                       0.123\n",
      "Model:                            OLS   Adj. R-squared:                 -0.052\n",
      "Method:                 Least Squares   F-statistic:                    0.7023\n",
      "Date:                Mon, 15 Mar 2021   Prob (F-statistic):              0.440\n",
      "Time:                        14:12:46   Log-Likelihood:                -30.514\n",
      "No. Observations:                   7   AIC:                             65.03\n",
      "Df Residuals:                       5   BIC:                             64.92\n",
      "Df Model:                           1                                         \n",
      "Covariance Type:            nonrobust                                         \n",
      "==============================================================================\n",
      "                 coef    std err          t      P>|t|      [0.025      0.975]\n",
      "------------------------------------------------------------------------------\n",
      "Intercept    167.2924     28.239      5.924      0.002      94.700     239.884\n",
      "SpringDev    -20.9309     24.977     -0.838      0.440     -85.135      43.274\n",
      "==============================================================================\n",
      "Omnibus:                          nan   Durbin-Watson:                   2.129\n",
      "Prob(Omnibus):                    nan   Jarque-Bera (JB):                0.607\n",
      "Skew:                          -0.492   Prob(JB):                        0.738\n",
      "Kurtosis:                       1.945   Cond. No.                         6.57\n",
      "==============================================================================\n",
      "\n",
      "Warnings:\n",
      "[1] Standard Errors assume that the covariance matrix of the errors is correctly specified.\n"
     ]
    }
   ],
   "source": [
    "spring_model = model_season(\"Spring\")"
   ]
  },
  {
   "cell_type": "code",
   "execution_count": 17,
   "metadata": {},
   "outputs": [
    {
     "name": "stdout",
     "output_type": "stream",
     "text": [
      "                            OLS Regression Results                            \n",
      "==============================================================================\n",
      "Dep. Variable:     SummerSuicideCount   R-squared:                       0.042\n",
      "Model:                            OLS   Adj. R-squared:                 -0.150\n",
      "Method:                 Least Squares   F-statistic:                    0.2190\n",
      "Date:                Mon, 15 Mar 2021   Prob (F-statistic):              0.660\n",
      "Time:                        14:12:46   Log-Likelihood:                -27.662\n",
      "No. Observations:                   7   AIC:                             59.32\n",
      "Df Residuals:                       5   BIC:                             59.21\n",
      "Df Model:                           1                                         \n",
      "Covariance Type:            nonrobust                                         \n",
      "==============================================================================\n",
      "                 coef    std err          t      P>|t|      [0.025      0.975]\n",
      "------------------------------------------------------------------------------\n",
      "Intercept    132.5682      8.537     15.529      0.000     110.623     154.513\n",
      "SummerDev      2.5979      5.552      0.468      0.660     -11.673      16.869\n",
      "==============================================================================\n",
      "Omnibus:                          nan   Durbin-Watson:                   0.772\n",
      "Prob(Omnibus):                    nan   Jarque-Bera (JB):                0.215\n",
      "Skew:                           0.421   Prob(JB):                        0.898\n",
      "Kurtosis:                       2.833   Cond. No.                         2.98\n",
      "==============================================================================\n",
      "\n",
      "Warnings:\n",
      "[1] Standard Errors assume that the covariance matrix of the errors is correctly specified.\n"
     ]
    }
   ],
   "source": [
    "summer_model = model_season(\"Summer\")"
   ]
  },
  {
   "cell_type": "code",
   "execution_count": 18,
   "metadata": {},
   "outputs": [
    {
     "name": "stdout",
     "output_type": "stream",
     "text": [
      "                            OLS Regression Results                            \n",
      "==============================================================================\n",
      "Dep. Variable:       FallSuicideCount   R-squared:                       0.141\n",
      "Model:                            OLS   Adj. R-squared:                 -0.031\n",
      "Method:                 Least Squares   F-statistic:                    0.8200\n",
      "Date:                Mon, 15 Mar 2021   Prob (F-statistic):              0.407\n",
      "Time:                        14:12:46   Log-Likelihood:                -25.363\n",
      "No. Observations:                   7   AIC:                             54.73\n",
      "Df Residuals:                       5   BIC:                             54.62\n",
      "Df Model:                           1                                         \n",
      "Covariance Type:            nonrobust                                         \n",
      "==============================================================================\n",
      "                 coef    std err          t      P>|t|      [0.025      0.975]\n",
      "------------------------------------------------------------------------------\n",
      "Intercept    120.2525      7.736     15.544      0.000     100.366     140.139\n",
      "FallDev       -7.8054      8.620     -0.906      0.407     -29.963      14.352\n",
      "==============================================================================\n",
      "Omnibus:                          nan   Durbin-Watson:                   1.267\n",
      "Prob(Omnibus):                    nan   Jarque-Bera (JB):                0.756\n",
      "Skew:                           0.801   Prob(JB):                        0.685\n",
      "Kurtosis:                       3.164   Cond. No.                         3.56\n",
      "==============================================================================\n",
      "\n",
      "Warnings:\n",
      "[1] Standard Errors assume that the covariance matrix of the errors is correctly specified.\n"
     ]
    }
   ],
   "source": [
    "fall_model = model_season(\"Fall\")"
   ]
  },
  {
   "cell_type": "markdown",
   "metadata": {},
   "source": [
    "**Analysis:** The following seasonal models suggest that there is no correlation and these results are by chance. We will further explore this based on a p-value test."
   ]
  },
  {
   "cell_type": "code",
   "execution_count": 19,
   "metadata": {},
   "outputs": [
    {
     "name": "stdout",
     "output_type": "stream",
     "text": [
      "Winter: We do not have evidence to reject the null hypothesis.\n",
      "Spring: We do not have evidence to reject the null hypothesis.\n",
      "Summer: We do not have evidence to reject the null hypothesis.\n",
      "Fall: We do not have evidence to reject the null hypothesis.\n"
     ]
    }
   ],
   "source": [
    "#constant alpha\n",
    "alpha = 0.01\n",
    "\n",
    "#p-values for winter, spring, summer, and fall respectively\n",
    "p_val_winter = 0.856 \n",
    "p_val_spring = 0.440\n",
    "p_val_summer = 0.660 \n",
    "p_val_fall = 0.407\n",
    "\n",
    "print(\"Winter: \", end=\"\")\n",
    "check_p_val(p_val_winter, alpha)\n",
    "\n",
    "print(\"Spring: \", end=\"\")\n",
    "check_p_val(p_val_spring, alpha)\n",
    "\n",
    "print(\"Summer: \", end=\"\")\n",
    "check_p_val(p_val_summer, alpha)\n",
    "\n",
    "print(\"Fall: \", end=\"\")\n",
    "check_p_val(p_val_fall, alpha)"
   ]
  },
  {
   "cell_type": "markdown",
   "metadata": {},
   "source": [
    "**Analysis:** Using an alpha of 0.01, our large p value suggests that we have found these results by chance. Thus, we fail to reject the null hypothesis."
   ]
  },
  {
   "cell_type": "markdown",
   "metadata": {},
   "source": [
    "Create regression line function"
   ]
  },
  {
   "cell_type": "code",
   "execution_count": 20,
   "metadata": {},
   "outputs": [],
   "source": [
    "#Show regression line\n",
    "def plot_regression(season, model, slope, intercept):\n",
    "    sns.scatterplot(x=f'{season}Dev', y=f'{season}SuicideCount', data=model, alpha=1, s=100)\n",
    "\n",
    "    # Generate and plot the model fit line\n",
    "    xs = np.linspace(model[f'{season}Dev'].min(), model[f'{season}Dev'].max())\n",
    "    ys = slope * xs + intercept \n",
    "    plt.plot(xs, ys, '--k', linewidth=2, label='Regression Line')\n",
    "\n",
    "    plt.xlabel(f'{season} Temperature Deviation (Absolute Value)')\n",
    "    plt.ylabel(f'{season} suicide count')\n",
    "    plt.legend()"
   ]
  },
  {
   "cell_type": "code",
   "execution_count": 21,
   "metadata": {},
   "outputs": [
    {
     "data": {
      "image/png": "[encoded data removed]",
      "text/plain": [
       "<Figure size 432x288 with 1 Axes>"
      ]
     },
     "metadata": {
      "needs_background": "light"
     },
     "output_type": "display_data"
    }
   ],
   "source": [
    "plot_regression(\"Winter\", winter_model, 0.6739, 122.7836)"
   ]
  },
  {
   "cell_type": "code",
   "execution_count": 22,
   "metadata": {},
   "outputs": [
    {
     "data": {
      "image/png": "[encoded data removed]",
      "text/plain": [
       "<Figure size 432x288 with 1 Axes>"
      ]
     },
     "metadata": {
      "needs_background": "light"
     },
     "output_type": "display_data"
    }
   ],
   "source": [
    "plot_regression(\"Spring\", spring_model, -20.9309, 132.5682)"
   ]
  },
  {
   "cell_type": "code",
   "execution_count": 23,
   "metadata": {},
   "outputs": [
    {
     "data": {
      "image/png": "[encoded data removed]",
      "text/plain": [
       "<Figure size 432x288 with 1 Axes>"
      ]
     },
     "metadata": {
      "needs_background": "light"
     },
     "output_type": "display_data"
    }
   ],
   "source": [
    "plot_regression(\"Summer\", summer_model, 2.5979, 132.5682)"
   ]
  },
  {
   "cell_type": "code",
   "execution_count": 24,
   "metadata": {},
   "outputs": [
    {
     "data": {
      "image/png": "[encoded data removed]",
      "text/plain": [
       "<Figure size 432x288 with 1 Axes>"
      ]
     },
     "metadata": {
      "needs_background": "light"
     },
     "output_type": "display_data"
    }
   ],
   "source": [
    "plot_regression(\"Fall\", fall_model, -7.8054, 120.2525)"
   ]
  },
  {
   "cell_type": "markdown",
   "metadata": {},
   "source": [
    "**Analysis:** By plotting the regression line we are able to notice a distinct lack of meaningful correlation. This further suggests that there is no relationship between seasonal temperature deviation and seasonal suicide count."
   ]
  },
  {
   "cell_type": "markdown",
   "metadata": {},
   "source": [
    "### Part 2: Do suicide rates differ between men and women in years when there is higher temperature fluctuation?\n",
    "\n",
    "Create a function that takes in a dataframe and prepares the annual data which we will use to analyze"
   ]
  },
  {
   "cell_type": "code",
   "execution_count": 25,
   "metadata": {},
   "outputs": [],
   "source": [
    "#function that will add annual data\n",
    "def calculate_annual_data(station):\n",
    "    station = station.set_index(['DATE'])\n",
    "    column_names = ['Year', 'Annual Avg', 'Annual Dev']\n",
    "    station_annual_avg = pd.DataFrame(columns = column_names)\n",
    "    \n",
    "    #calculate seasonal average and extremes\n",
    "    for i in range(7):\n",
    "        year = str(2008 + i)\n",
    "        station_annual_avg = station_annual_avg.append({'Year':year}, ignore_index=True)\n",
    "        \n",
    "        station_annual_avg.at[i, 'Annual Avg'] = station.loc[str(2007 + i) + '-12-01': year + '-11-31']['TAVG'].mean()\n",
    "\n",
    "    \n",
    "    annual_mean = station_annual_avg['Annual Avg'].mean()\n",
    "\n",
    "    #calculate deviation \n",
    "    for i in range(7):\n",
    "        station_annual_avg.at[i, 'Annual Dev'] = station_annual_avg.at[i, 'Annual Avg'] - annual_mean\n",
    "    \n",
    "    return station_annual_avg"
   ]
  },
  {
   "cell_type": "markdown",
   "metadata": {},
   "source": [
    "Create and display new annual dataframe"
   ]
  },
  {
   "cell_type": "code",
   "execution_count": 26,
   "metadata": {},
   "outputs": [
    {
     "data": {
      "text/html": [
       "<div>\n",
       "<style scoped>\n",
       "    .dataframe tbody tr th:only-of-type {\n",
       "        vertical-align: middle;\n",
       "    }\n",
       "\n",
       "    .dataframe tbody tr th {\n",
       "        vertical-align: top;\n",
       "    }\n",
       "\n",
       "    .dataframe thead th {\n",
       "        text-align: right;\n",
       "    }\n",
       "</style>\n",
       "<table border=\"1\" class=\"dataframe\">\n",
       "  <thead>\n",
       "    <tr style=\"text-align: right;\">\n",
       "      <th></th>\n",
       "      <th>Year</th>\n",
       "      <th>Winter (TMAX)</th>\n",
       "      <th>Winter (TMIN)</th>\n",
       "      <th>Winter (TAVG)</th>\n",
       "      <th>Winter (DEV)</th>\n",
       "      <th>Spring (TMAX)</th>\n",
       "      <th>Spring (TMIN)</th>\n",
       "      <th>Spring (TAVG)</th>\n",
       "      <th>Spring (DEV)</th>\n",
       "      <th>Summer (TMAX)</th>\n",
       "      <th>...</th>\n",
       "      <th>Fall (DEV)</th>\n",
       "      <th>Count of Suicides (Total)</th>\n",
       "      <th>Count of suicides (Females)</th>\n",
       "      <th>Count of suicides (Males)</th>\n",
       "      <th>Winter count of suicides (Total)</th>\n",
       "      <th>Spring count of suicides (Total)</th>\n",
       "      <th>Summer count of suicides (Total)</th>\n",
       "      <th>Fall count of suicides (Total)</th>\n",
       "      <th>Annual Avg</th>\n",
       "      <th>Annual Dev</th>\n",
       "    </tr>\n",
       "  </thead>\n",
       "  <tbody>\n",
       "    <tr>\n",
       "      <th>0</th>\n",
       "      <td>2008</td>\n",
       "      <td>68.000000</td>\n",
       "      <td>11.000000</td>\n",
       "      <td>36.822222</td>\n",
       "      <td>1.262698</td>\n",
       "      <td>96.666667</td>\n",
       "      <td>13.666667</td>\n",
       "      <td>59.351307</td>\n",
       "      <td>-0.675070</td>\n",
       "      <td>96.666667</td>\n",
       "      <td>...</td>\n",
       "      <td>-1.061748</td>\n",
       "      <td>473.0</td>\n",
       "      <td>125.0</td>\n",
       "      <td>348.0</td>\n",
       "      <td>117.0</td>\n",
       "      <td>143.0</td>\n",
       "      <td>114.0</td>\n",
       "      <td>99.0</td>\n",
       "      <td>55.4909</td>\n",
       "      <td>-0.276207</td>\n",
       "    </tr>\n",
       "    <tr>\n",
       "      <th>1</th>\n",
       "      <td>2009</td>\n",
       "      <td>64.666667</td>\n",
       "      <td>7.000000</td>\n",
       "      <td>34.435185</td>\n",
       "      <td>-1.124339</td>\n",
       "      <td>92.333333</td>\n",
       "      <td>13.000000</td>\n",
       "      <td>58.566993</td>\n",
       "      <td>-1.459384</td>\n",
       "      <td>92.333333</td>\n",
       "      <td>...</td>\n",
       "      <td>-0.318158</td>\n",
       "      <td>475.0</td>\n",
       "      <td>115.0</td>\n",
       "      <td>360.0</td>\n",
       "      <td>129.0</td>\n",
       "      <td>103.0</td>\n",
       "      <td>128.0</td>\n",
       "      <td>115.0</td>\n",
       "      <td>54.5059</td>\n",
       "      <td>-1.26116</td>\n",
       "    </tr>\n",
       "    <tr>\n",
       "      <th>2</th>\n",
       "      <td>2010</td>\n",
       "      <td>66.000000</td>\n",
       "      <td>13.666667</td>\n",
       "      <td>34.085185</td>\n",
       "      <td>-1.474339</td>\n",
       "      <td>102.333333</td>\n",
       "      <td>19.333333</td>\n",
       "      <td>61.617647</td>\n",
       "      <td>1.591270</td>\n",
       "      <td>102.333333</td>\n",
       "      <td>...</td>\n",
       "      <td>1.185505</td>\n",
       "      <td>503.0</td>\n",
       "      <td>129.0</td>\n",
       "      <td>374.0</td>\n",
       "      <td>109.0</td>\n",
       "      <td>147.0</td>\n",
       "      <td>141.0</td>\n",
       "      <td>106.0</td>\n",
       "      <td>57.2078</td>\n",
       "      <td>1.44066</td>\n",
       "    </tr>\n",
       "    <tr>\n",
       "      <th>3</th>\n",
       "      <td>2011</td>\n",
       "      <td>67.000000</td>\n",
       "      <td>7.000000</td>\n",
       "      <td>33.122222</td>\n",
       "      <td>-2.437302</td>\n",
       "      <td>103.666667</td>\n",
       "      <td>19.666667</td>\n",
       "      <td>60.943355</td>\n",
       "      <td>0.916978</td>\n",
       "      <td>103.666667</td>\n",
       "      <td>...</td>\n",
       "      <td>1.463893</td>\n",
       "      <td>509.0</td>\n",
       "      <td>128.0</td>\n",
       "      <td>381.0</td>\n",
       "      <td>126.0</td>\n",
       "      <td>133.0</td>\n",
       "      <td>137.0</td>\n",
       "      <td>113.0</td>\n",
       "      <td>55.605</td>\n",
       "      <td>-0.162077</td>\n",
       "    </tr>\n",
       "    <tr>\n",
       "      <th>4</th>\n",
       "      <td>2012</td>\n",
       "      <td>63.000000</td>\n",
       "      <td>13.333333</td>\n",
       "      <td>40.409259</td>\n",
       "      <td>4.849735</td>\n",
       "      <td>99.000000</td>\n",
       "      <td>26.000000</td>\n",
       "      <td>61.293573</td>\n",
       "      <td>1.267196</td>\n",
       "      <td>99.000000</td>\n",
       "      <td>...</td>\n",
       "      <td>-0.752224</td>\n",
       "      <td>557.0</td>\n",
       "      <td>163.0</td>\n",
       "      <td>391.0</td>\n",
       "      <td>126.0</td>\n",
       "      <td>162.0</td>\n",
       "      <td>136.0</td>\n",
       "      <td>133.0</td>\n",
       "      <td>57.7359</td>\n",
       "      <td>1.96878</td>\n",
       "    </tr>\n",
       "    <tr>\n",
       "      <th>5</th>\n",
       "      <td>2013</td>\n",
       "      <td>61.000000</td>\n",
       "      <td>11.666667</td>\n",
       "      <td>37.248148</td>\n",
       "      <td>1.688624</td>\n",
       "      <td>99.333333</td>\n",
       "      <td>19.333333</td>\n",
       "      <td>59.343137</td>\n",
       "      <td>-0.683240</td>\n",
       "      <td>99.333333</td>\n",
       "      <td>...</td>\n",
       "      <td>-0.543433</td>\n",
       "      <td>550.0</td>\n",
       "      <td>146.0</td>\n",
       "      <td>404.0</td>\n",
       "      <td>142.0</td>\n",
       "      <td>158.0</td>\n",
       "      <td>133.0</td>\n",
       "      <td>117.0</td>\n",
       "      <td>55.6858</td>\n",
       "      <td>-0.081255</td>\n",
       "    </tr>\n",
       "    <tr>\n",
       "      <th>6</th>\n",
       "      <td>2014</td>\n",
       "      <td>68.000000</td>\n",
       "      <td>4.666667</td>\n",
       "      <td>32.794444</td>\n",
       "      <td>-2.765079</td>\n",
       "      <td>92.333333</td>\n",
       "      <td>13.000000</td>\n",
       "      <td>59.068627</td>\n",
       "      <td>-0.957750</td>\n",
       "      <td>90.666667</td>\n",
       "      <td>...</td>\n",
       "      <td>0.026164</td>\n",
       "      <td>565.0</td>\n",
       "      <td>172.0</td>\n",
       "      <td>393.0</td>\n",
       "      <td>121.0</td>\n",
       "      <td>167.0</td>\n",
       "      <td>160.0</td>\n",
       "      <td>117.0</td>\n",
       "      <td>54.1384</td>\n",
       "      <td>-1.62874</td>\n",
       "    </tr>\n",
       "  </tbody>\n",
       "</table>\n",
       "<p>7 rows × 26 columns</p>\n",
       "</div>"
      ],
      "text/plain": [
       "   Year  Winter (TMAX)  Winter (TMIN)  Winter (TAVG)  Winter (DEV)  \\\n",
       "0  2008      68.000000      11.000000      36.822222      1.262698   \n",
       "1  2009      64.666667       7.000000      34.435185     -1.124339   \n",
       "2  2010      66.000000      13.666667      34.085185     -1.474339   \n",
       "3  2011      67.000000       7.000000      33.122222     -2.437302   \n",
       "4  2012      63.000000      13.333333      40.409259      4.849735   \n",
       "5  2013      61.000000      11.666667      37.248148      1.688624   \n",
       "6  2014      68.000000       4.666667      32.794444     -2.765079   \n",
       "\n",
       "   Spring (TMAX)  Spring (TMIN)  Spring (TAVG)  Spring (DEV)  Summer (TMAX)  \\\n",
       "0      96.666667      13.666667      59.351307     -0.675070      96.666667   \n",
       "1      92.333333      13.000000      58.566993     -1.459384      92.333333   \n",
       "2     102.333333      19.333333      61.617647      1.591270     102.333333   \n",
       "3     103.666667      19.666667      60.943355      0.916978     103.666667   \n",
       "4      99.000000      26.000000      61.293573      1.267196      99.000000   \n",
       "5      99.333333      19.333333      59.343137     -0.683240      99.333333   \n",
       "6      92.333333      13.000000      59.068627     -0.957750      90.666667   \n",
       "\n",
       "   ...  Fall (DEV)  Count of Suicides (Total)  Count of suicides (Females)  \\\n",
       "0  ...   -1.061748                      473.0                        125.0   \n",
       "1  ...   -0.318158                      475.0                        115.0   \n",
       "2  ...    1.185505                      503.0                        129.0   \n",
       "3  ...    1.463893                      509.0                        128.0   \n",
       "4  ...   -0.752224                      557.0                        163.0   \n",
       "5  ...   -0.543433                      550.0                        146.0   \n",
       "6  ...    0.026164                      565.0                        172.0   \n",
       "\n",
       "   Count of suicides (Males)  Winter count of suicides (Total)  \\\n",
       "0                      348.0                             117.0   \n",
       "1                      360.0                             129.0   \n",
       "2                      374.0                             109.0   \n",
       "3                      381.0                             126.0   \n",
       "4                      391.0                             126.0   \n",
       "5                      404.0                             142.0   \n",
       "6                      393.0                             121.0   \n",
       "\n",
       "   Spring count of suicides (Total)  Summer count of suicides (Total)  \\\n",
       "0                             143.0                             114.0   \n",
       "1                             103.0                             128.0   \n",
       "2                             147.0                             141.0   \n",
       "3                             133.0                             137.0   \n",
       "4                             162.0                             136.0   \n",
       "5                             158.0                             133.0   \n",
       "6                             167.0                             160.0   \n",
       "\n",
       "   Fall count of suicides (Total)  Annual Avg  Annual Dev  \n",
       "0                            99.0     55.4909   -0.276207  \n",
       "1                           115.0     54.5059    -1.26116  \n",
       "2                           106.0     57.2078     1.44066  \n",
       "3                           113.0      55.605   -0.162077  \n",
       "4                           133.0     57.7359     1.96878  \n",
       "5                           117.0     55.6858   -0.081255  \n",
       "6                           117.0     54.1384    -1.62874  \n",
       "\n",
       "[7 rows x 26 columns]"
      ]
     },
     "metadata": {},
     "output_type": "display_data"
    }
   ],
   "source": [
    "#call the function to get the seasonal and suicide data for the given station\n",
    "combined_annual_data = calculate_annual_data(combined)\n",
    "\n",
    "col = combined_annual_data.columns.values.tolist()[1:]\n",
    "combined = combined_seasonal_data.join(combined_annual_data[col])\n",
    "display(combined)"
   ]
  },
  {
   "cell_type": "markdown",
   "metadata": {},
   "source": [
    "Investigate each gender and look for large suicide counts with significant annual deviation values."
   ]
  },
  {
   "cell_type": "code",
   "execution_count": 27,
   "metadata": {},
   "outputs": [
    {
     "data": {
      "text/plain": [
       "<seaborn.axisgrid.FacetGrid at 0x7efe70cde810>"
      ]
     },
     "execution_count": 27,
     "metadata": {},
     "output_type": "execute_result"
    },
    {
     "data": {
      "image/png": "[encoded data removed]",
      "text/plain": [
       "<Figure size 517.625x360 with 1 Axes>"
      ]
     },
     "metadata": {
      "needs_background": "light"
     },
     "output_type": "display_data"
    },
    {
     "data": {
      "image/png": "[encoded data removed]",
      "text/plain": [
       "<Figure size 517.625x360 with 1 Axes>"
      ]
     },
     "metadata": {
      "needs_background": "light"
     },
     "output_type": "display_data"
    }
   ],
   "source": [
    "annual_dev = ['Year', \n",
    "              'Count of suicides (Females)', 'Count of suicides (Males)',\n",
    "              'Annual Dev']\n",
    "annual_dev = combined[annual_dev]\n",
    "\n",
    "p = 'bright'\n",
    "sns.lmplot(x='Year', y='Count of suicides (Females)', hue='Annual Dev', data=annual_dev, palette=p)\n",
    "sns.lmplot(x='Year', y='Count of suicides (Males)', hue='Annual Dev', data=annual_dev, palette=p)"
   ]
  },
  {
   "cell_type": "markdown",
   "metadata": {},
   "source": [
    "**Analysis:** Our results suggest that there may be a relationship between annual deviation value and suicide count. In particular, years 2012 and 2014 have both high female and male suicide count and high annual temperature deviation."
   ]
  },
  {
   "cell_type": "markdown",
   "metadata": {},
   "source": [
    "Create a model to check P value and also for regression to confirm our investigation"
   ]
  },
  {
   "cell_type": "code",
   "execution_count": 28,
   "metadata": {},
   "outputs": [
    {
     "name": "stdout",
     "output_type": "stream",
     "text": [
      "                             OLS Regression Results                            \n",
      "===============================================================================\n",
      "Dep. Variable:     CountSuicideFemales   R-squared:                       0.217\n",
      "Model:                             OLS   Adj. R-squared:                  0.061\n",
      "Method:                  Least Squares   F-statistic:                     1.388\n",
      "Date:                 Mon, 15 Mar 2021   Prob (F-statistic):              0.292\n",
      "Time:                         14:12:48   Log-Likelihood:                -29.923\n",
      "No. Observations:                    7   AIC:                             63.85\n",
      "Df Residuals:                        5   BIC:                             63.74\n",
      "Df Model:                            1                                         \n",
      "Covariance Type:             nonrobust                                         \n",
      "=====================================================================================\n",
      "                        coef    std err          t      P>|t|      [0.025      0.975]\n",
      "-------------------------------------------------------------------------------------\n",
      "Intercept           127.3774     13.044      9.765      0.000      93.847     160.908\n",
      "AnnualDevAbsolute    12.6646     10.751      1.178      0.292     -14.972      40.301\n",
      "==============================================================================\n",
      "Omnibus:                          nan   Durbin-Watson:                   0.524\n",
      "Prob(Omnibus):                    nan   Jarque-Bera (JB):                0.450\n",
      "Skew:                          -0.193   Prob(JB):                        0.799\n",
      "Kurtosis:                       1.819   Cond. No.                         3.09\n",
      "==============================================================================\n",
      "\n",
      "Warnings:\n",
      "[1] Standard Errors assume that the covariance matrix of the errors is correctly specified.\n"
     ]
    }
   ],
   "source": [
    "combined['Annual Dev (Absolute)'] = combined['Annual Dev'].abs().astype('float')\n",
    "annual_dev = ['Year', \n",
    "              'Count of suicides (Females)', 'Count of suicides (Males)',\n",
    "              'Annual Dev (Absolute)']\n",
    "annual_dev = combined[annual_dev]\n",
    "\n",
    "renamed = annual_dev.rename(columns={'Annual Dev (Absolute)' : 'AnnualDevAbsolute', \n",
    "                   'Count of suicides (Females)': 'CountSuicideFemales'})\n",
    "\n",
    "# We can specify our model matrix using `pastsy`\n",
    "compare = 'CountSuicideFemales ~ AnnualDevAbsolute'\n",
    "outcome, predictors = patsy.dmatrices(compare, renamed)\n",
    "model = sm.OLS(outcome, predictors)\n",
    "\n",
    "## fit the model\n",
    "results = model.fit()\n",
    "\n",
    "## look at the results\n",
    "print(results.summary())"
   ]
  },
  {
   "cell_type": "markdown",
   "metadata": {},
   "source": [
    "**Analysis:**\n",
    "\n",
    "1) Our model Total Suicide Count (Females) = 12.6646 * Annual Temperature Deviation + 127.3774\n",
    "\n",
    "2) The following model suggests that there is no relationship because our P value is quite large and our R-squared value is small"
   ]
  },
  {
   "cell_type": "code",
   "execution_count": 29,
   "metadata": {},
   "outputs": [
    {
     "name": "stdout",
     "output_type": "stream",
     "text": [
      "We do not have evidence to reject the null hypothesis.\n"
     ]
    }
   ],
   "source": [
    "alpha = 0.01\n",
    "p_val =  0.292\n",
    "check_p_val(p_val, alpha)"
   ]
  },
  {
   "cell_type": "markdown",
   "metadata": {},
   "source": [
    "**Analysis:** Using an alpha of 0.01, our large p value suggests that we have found these results by chance. Thus, we fail to reject the null hypothesis.\n",
    "\n",
    "Plot regression to visualize data and confirm the model."
   ]
  },
  {
   "cell_type": "code",
   "execution_count": 30,
   "metadata": {},
   "outputs": [
    {
     "data": {
      "text/plain": [
       "<matplotlib.legend.Legend at 0x7efe70bca6d0>"
      ]
     },
     "execution_count": 30,
     "metadata": {},
     "output_type": "execute_result"
    },
    {
     "data": {
      "image/png": "[encoded data removed]",
      "text/plain": [
       "<Figure size 432x288 with 1 Axes>"
      ]
     },
     "metadata": {
      "needs_background": "light"
     },
     "output_type": "display_data"
    }
   ],
   "source": [
    "#Show regression line\n",
    "sns.scatterplot(x='AnnualDevAbsolute', y='CountSuicideFemales', data=renamed, alpha=1, s=100)\n",
    "\n",
    "# Generate and plot the model fit line\n",
    "xs = np.linspace(renamed['AnnualDevAbsolute'].min(), renamed['AnnualDevAbsolute'].max())\n",
    "ys = 12.6646 * xs + 127.3774 \n",
    "plt.plot(xs, ys, '--k', linewidth=2, label='Regression Line')\n",
    "\n",
    "plt.xlabel('Annual Temperature Deviation (Absolute Value)')\n",
    "plt.ylabel('Total suicide count (Female)')\n",
    "plt.legend()"
   ]
  },
  {
   "cell_type": "markdown",
   "metadata": {},
   "source": [
    "**Analysis:** By plotting the regression line we notice that there is no obvious linear correlation between points. This further suggests that there is no relationship between annual temperature deviation and female suicide count.\n",
    "\n",
    "Carry out similar task for males"
   ]
  },
  {
   "cell_type": "code",
   "execution_count": 31,
   "metadata": {},
   "outputs": [
    {
     "name": "stdout",
     "output_type": "stream",
     "text": [
      "                            OLS Regression Results                            \n",
      "==============================================================================\n",
      "Dep. Variable:      CountSuicideMales   R-squared:                       0.014\n",
      "Model:                            OLS   Adj. R-squared:                 -0.183\n",
      "Method:                 Least Squares   F-statistic:                   0.07244\n",
      "Date:                Mon, 15 Mar 2021   Prob (F-statistic):              0.799\n",
      "Time:                        14:12:48   Log-Likelihood:                -30.187\n",
      "No. Observations:                   7   AIC:                             64.37\n",
      "Df Residuals:                       5   BIC:                             64.27\n",
      "Df Model:                           1                                         \n",
      "Covariance Type:            nonrobust                                         \n",
      "=====================================================================================\n",
      "                        coef    std err          t      P>|t|      [0.025      0.975]\n",
      "-------------------------------------------------------------------------------------\n",
      "Intercept           375.7869     13.546     27.741      0.000     340.965     410.609\n",
      "AnnualDevAbsolute     3.0051     11.165      0.269      0.799     -25.696      31.706\n",
      "==============================================================================\n",
      "Omnibus:                          nan   Durbin-Watson:                   0.436\n",
      "Prob(Omnibus):                    nan   Jarque-Bera (JB):                0.342\n",
      "Skew:                          -0.158   Prob(JB):                        0.843\n",
      "Kurtosis:                       1.964   Cond. No.                         3.09\n",
      "==============================================================================\n",
      "\n",
      "Warnings:\n",
      "[1] Standard Errors assume that the covariance matrix of the errors is correctly specified.\n"
     ]
    }
   ],
   "source": [
    "renamed = annual_dev.rename(columns={'Annual Dev (Absolute)' : 'AnnualDevAbsolute', \n",
    "                                     'Count of suicides (Males)': 'CountSuicideMales'})\n",
    "\n",
    "# We can specify our model matrix using `pastsy`\n",
    "compare = 'CountSuicideMales ~ AnnualDevAbsolute'\n",
    "outcome, predictors = patsy.dmatrices(compare, renamed)\n",
    "model = sm.OLS(outcome, predictors)\n",
    "\n",
    "## fit the model\n",
    "results = model.fit()\n",
    "\n",
    "## look at the results\n",
    "print(results.summary())"
   ]
  },
  {
   "cell_type": "code",
   "execution_count": 32,
   "metadata": {},
   "outputs": [
    {
     "name": "stdout",
     "output_type": "stream",
     "text": [
      "We do not have evidence to reject the null hypothesis.\n"
     ]
    }
   ],
   "source": [
    "alpha = 0.01\n",
    "p_val =  0.799\n",
    "check_p_val(p_val, alpha)"
   ]
  },
  {
   "cell_type": "markdown",
   "metadata": {},
   "source": [
    "**Analysis:** By a similar analysis, our observed p value is significantly larger than our alpha suggesting that these results were by chance."
   ]
  },
  {
   "cell_type": "markdown",
   "metadata": {},
   "source": [
    "# Ethics & Privacy"
   ]
  },
  {
   "cell_type": "markdown",
   "metadata": {},
   "source": [
    "**Question & Implications**\n",
    "    \n",
    "   We are interested in analyzing whether there is any correlation between deviations from the average seasonal and yearly temperatures in New York City from 2008 to 2014 and men and women’s suicide rates in the same time durations. Building upon prior studies that broadly suggest higher temperatures leading to increased suicide rates in England, Wales, United States, and Mexico, we would like to examine on a more granular level, both gender differences in suicide rates in regards to temperature fluctuations and suicide rates in regards to seasonal temperature changes in a large American city.\t\n",
    "   \n",
    "   The stakeholders for our project are those whose mental health is prone to be affected by temperature fluctuations, as well as researchers in the fields of public health and environmental sciences. For the purpose and scope of this project, we only attempt and are able to discuss correlations, instead of suggesting any causations, as there are many other disparate factors that contribute to suicide risk. \n",
    "\n",
    "**The Data**\n",
    "\n",
    "We were able to find available data that are de-identified and directly related to our questions from 2 public government sites, New York City Department of Health and Mental Hygiene and NOAA Climate.org. Specifically, the 5 datasets that we use in this project consist of annual suicide counts of males and females, broken down by 4 seasons from 2000-2014, and temperature trends from 2008-2014 in New York City. \n",
    "\n",
    "For this project, we chose to use the overlapping years from our datasets, which is from 2008 to 2014, as stated in our research question. Since the data that we use in this project was collected roughly 10 years ago and of relatively small samples, we cannot make the most up-to-date or representative inferences and conclusions about the current relationship between temperature trends and men and women’s suicide counts in a big city, such as New York City. \n",
    "\n",
    "Also, since our data is collectected from 3 weather stations in the northern and eastern part of NYC (JFK International, Laguardia Airport, Central Park, as seen in the map below), the southern and western part of NYC, such as Brooklyn and Staten Island, may be poorly represented by our data, despite being part of NYC. \n",
    "\n",
    "**Privacy & Informed Consent**\n",
    "\n",
    "Our data on suicide counts in New York City comes from NYC DOHMH Bureau of Vital Statistics from 2008 to 2014 and NYC Department of Health and Mental Hygiene Population Estimates in 2014, and our data on temperature trends in New York City comes from the Global Historical Climatology Network. Both of them are publicly available statistics from government sites and are environmental and societal, so informed consent is not relevant to us in this project. \n",
    "\n",
    "Privacy for persons is a significant concern when dealing with sensitive topics like health outcomes, especially in the realm of mental health and suicide. There is both concern for the anonymity of the individuals whose data are being directly recorded, as well as their friends and family members who might be either directly or indirectly affected. For the purposes of our project, privacy concerns are not much of an issue as our data were anonymized before they were in our possession. There is no personally identifiable information about the individuals who committed suicide, other than the city in which they lived and the year in which they died. As far as we can tell, these data were stored securely on government servers, and were only viewable to the public in the form that we attained them. As such, we consider our suicide data to be very low risk, and the risk mitigation efforts were carried out by entities other than ourselves. \n",
    "\t\n",
    "Regarding our weather datasets, it seems appropriate to us to consider these data zero risk. Privacy is primarily a concern for individuals and groups of individuals, and these data have no potential for nefarious applications so far as we can tell.\n",
    "\n",
    "**Evaluation**\n",
    "\n",
    "We will evaluate the project based on our ability to carry out statistical analysis and identify a relationship between temperature trends and the number of suicides in New York City, or lack thereof. Our metric of success is whether or not we can statistically establish that there is or is not such a relationship, and confidently reject or fail to reject our null hypothesis. \n",
    "\n",
    "**Analysis**\n",
    "\n",
    "Weather patterns may have many potential downstream effects, and suicide rates may be impacted by many upstream causes. As such, it is impossible to list all of the possible spurious correlations which could be reflected in our analyses, but we will try to identify a few. Firstly, it is possible that large temperature fluctuations or particularly cold or hot seasons could cause people to spend more time indoors, perhaps reducing local spending and causing the economy to slow. When the economy slows, people lose jobs, and unemployment is a known cause of suicide. So it is possible that a correlation between temperature fluctuation and suicide rates in NYC could be mediated by a third variable that is the economy. Alternatively, it is possible that certain temperature trends are linked to political decisions that have implications for mental health services, and that an increase or decrease in mental health services availability could lead to an increase or decrease in suicides. Given that we have fairly limited data and are only measuring two variables, it is not possible for us to do any sort of causal inference in our project. \n",
    "\n",
    "We did not use any proxies in our analysis; our data are a direct reflection of the variables we set out to analyze. There are therefore no inferred latent variables that we need to worry about. \n",
    "\n",
    "**Transparency & Appeal**\n",
    "\n",
    "Our model is about as transparent as a model can possibly be. There are no computations taking place out of plain view, and our findings are the result of very straightforward statistical calculations. Our model is also not carrying out any sort of predictions, so appeals and refusals are not relevant to our project. \n",
    "\n",
    "**Continuous Monitoring**\n",
    "\n",
    "Given that we used retrospective analysis to answer our question, there is no appropriate back and forth that our model can have with the variables in the world that we wish to understand. This is one of the limitations of our approach, but we feel confident that our model could be useful with any similar datasets that one could input. Specifically, it could be used to answer a similar set of questions in a different city with different weather and suicide data. \n",
    "\n",
    "We do not believe that any of the outputs of our data have seriously harmful implications, but one concern is our failure to identify a relationship between temperature trends and suicide rates could lead some readers to believe that temperature trends cannot possibly have any effects on mental health and mental health outcomes. We failed to reject our null hypothesis, but this does not preclude the possibility of some relationship existing between particular types of temperature trends or irregularities and some undesirable mental health outcomes. \n"
   ]
  },
  {
   "cell_type": "markdown",
   "metadata": {},
   "source": [
    "# Conclusion & Discussion"
   ]
  },
  {
   "cell_type": "markdown",
   "metadata": {},
   "source": [
    "In summary, we failed to reject the null hypothesis for either of our two research questions. We found that suicide rates in a given season did not differ when average temperatures in that season deviated from typical seasonal temperatures between 2008 and 2014 in New York City. We were also unable to identify a difference between suicide rates among men and women in years when there was higher temperature fluctuation. \n",
    "\n",
    "Our project did have significant limitations, the most noteworthy being a relatively limited set of data. Our data only covered a small geographical area, and relatively short length of time (7 years). While we were unable to identify any meaningful relationship between temperature fluctuations and suicide rates, this may have been in part attributable to the limits of our data. Were we to have conducted a larger scale version of this project, with the same question but larger geographical and temporal scope, we may well have identified some macro level trends that were unidentifiable given the constrained data we used for our analyses. It may be the case, for example, that temperature fluctuations are more severe in places other than New York City, and that these more severe changes might have stronger correlations with mental health outcomes and suicide. \n",
    "\n",
    "Another limitation worth mentioning is the fact that our weather data were averages from 3 separate concurrent measurements from different weather stations in New York City (see map in Ethics & Privacy section). This may have eliminated some of the microclimate variability observed in the real world, thus reducing the temperature perceptions of residents in certain areas to an average. We recognize that weather patterns can have many downstream effects, and some of these effects may themselves be correlated with higher suicide rates, but we were unable to identify or investigate any such relationship in this project.\n",
    "\n",
    "Despite limitations, our null result may serve as a useful jumping off point for any others interested in pursuing the question of whether or not a relationship exists between temperature fluctuation and suicide rates. "
   ]
  },
  {
   "cell_type": "markdown",
   "metadata": {},
   "source": [
    "# Team Contributions"
   ]
  },
  {
   "cell_type": "markdown",
   "metadata": {},
   "source": [
    "Eli Marx-Kahn: Wrote title, hypothesis, privacy & informed consent, evaluation, analysis, transparency & appeal, continuous monitoring, and conclusion & discussion. Also made small contributions to EDA text.\n",
    "\n",
    "Sherry Ma:\n",
    "\n",
    "Jonathan Chou: Coding for data cleaning and EDA. \n",
    "\n",
    "Kevin Lee: Coding for data cleaning and EDA. "
   ]
  }
 ],
 "metadata": {
  "kernelspec": {
   "display_name": "Python 3",
   "language": "python",
   "name": "python3"
  },
  "language_info": {
   "codemirror_mode": {
    "name": "ipython",
    "version": 3
   },
   "file_extension": ".py",
   "mimetype": "text/x-python",
   "name": "python",
   "nbconvert_exporter": "python",
   "pygments_lexer": "ipython3",
   "version": "3.7.6"
  }
 },
 "nbformat": 4,
 "nbformat_minor": 2
}
