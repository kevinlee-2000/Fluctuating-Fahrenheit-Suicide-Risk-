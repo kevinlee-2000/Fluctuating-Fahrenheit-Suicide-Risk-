{
 "cells": [
  {
   "cell_type": "markdown",
   "metadata": {},
   "source": [
    "# COGS 108 - Data Checkpoint"
   ]
  },
  {
   "cell_type": "markdown",
   "metadata": {},
   "source": [
    "# Names\n",
    "\n",
    "- Jonathan Chou\n",
    "- Eli Marx-Kahn\n",
    "- Kevin Lee\n",
    "- Sherry Ma"
   ]
  },
  {
   "cell_type": "markdown",
   "metadata": {},
   "source": [
    "<a id='research_question'></a>\n",
    "# Research Question"
   ]
  },
  {
   "cell_type": "markdown",
   "metadata": {},
   "source": [
    "Is there a relationship between temperature trends and number of suicides in New York City? \n",
    "More specifically:\n",
    "1. Do suicide rates in a given season differ when average temperatures in that season deviate from typical* seasonal temperatures?\n",
    "2. Do anomalously warm or cold seasons have a correlation with higher or lower than average suicide rates?\n",
    "    - Does higher fluctuation in temperature have a correlation with higher or lower than average suicide rates?\n",
    "3. Do suicide rates differ between men and women in years when there is higher temperature fluctuation?\n",
    "\n",
    "***Typical refers here to the average seasonal temperature across the years 2008-2014**\n"
   ]
  },
  {
   "cell_type": "markdown",
   "metadata": {},
   "source": [
    "# Dataset(s)"
   ]
  },
  {
   "cell_type": "markdown",
   "metadata": {},
   "source": [
    "### Dataset 1\n",
    "- Dataset Name: Suicide counts and rates in New York City 2000-2014\n",
    "- Link to the dataset: https://www1.nyc.gov/assets/doh/downloads/pdf/epi/databrief75.pdf\n",
    "     - 5th page of pdf\n",
    "- Number of observations: 15\n",
    "- Description: Suicide counts in NYC from 2000-2014 and broken down by gender, rate type.\n",
    "\n",
    "### Dataset 2\n",
    "- Dataset Name: Seasonal counts of suicide in New York City 2008-2014 \n",
    "- Link to the dataset: https://www1.nyc.gov/assets/doh/downloads/pdf/epi/databrief75.pdf\n",
    "    - 6th page of pdf\n",
    "- Number of observations: 7\n",
    "- Description: Suicide counts in NYC from 2008-2014 and 4 seasons.\n",
    "\n",
    "### Dataset 3\n",
    "- Dataset Name: New York City Temperature Trends 2008-2010 \n",
    "- Link to the dataset: https://www.climate.gov/maps-data/dataset/past-weather-zip-code-data-table\n",
    "    - Must request air temperature data from NYC as CSV for specified date range\n",
    "- Number of observations: 47733\n",
    "- Description: Daily min/max/avg temperature gathered by the weather stations in New York for the years 2008-2010.\n",
    "\n",
    "\n",
    "### Dataset 4\n",
    "- Dataset Name: New York City Temperature Trends 2011-2013 \n",
    "- Link to the dataset: https://www.climate.gov/maps-data/dataset/past-weather-zip-code-data-table\n",
    "     - Must request air temperature data from NYC as CSV for specified date range\n",
    "- Number of observations: 62131\n",
    "- Description: Daily min/max/avg temperature gathered by the weather stations in New York for the years 2011-2013.\n",
    "\n",
    "### Dataset 5\n",
    "- Dataset Name: New York City Temperature Trends 2014 \n",
    "- Link to the dataset: https://www.climate.gov/maps-data/dataset/past-weather-zip-code-data-table\n",
    "    - Must request air temperature data from NYC as CSV for specified date range\n",
    "- Number of observations: 21809\n",
    "- Description: Daily min/max/avg temperature gathered by the weather stations in New York for the year 2014.\n",
    "\n",
    "### Multiple Datasets/Merge:\n",
    "- Dataset 1 and 2 will be combined to one larger dataset where extra columns will be added as the suicide data pertain to different variables.\n",
    "- Datasets 3, 4, and 5 all track the same variables with different timeframe observations, so they will be combined to one larger dataset that adds more rows. This way we have one dataset that contains the temperature data from 2008 to 2014. \n",
    "\n"
   ]
  },
  {
   "cell_type": "markdown",
   "metadata": {},
   "source": [
    "# Setup"
   ]
  },
  {
   "cell_type": "code",
   "execution_count": 13,
   "metadata": {},
   "outputs": [],
   "source": [
    "import pandas as pd\n",
    "import numpy as np\n",
    "\n",
    "#getting the suicide data\n",
    "suicide_count_yearly = pd.read_csv(\"Data/Suicide counts and rates in New York City 2000-2014.csv\")\n",
    "suicide_count_seasonal = pd.read_csv(\"Data/Seasonal counts of suicide in New York City 2008-2014.csv\")\n",
    "\n",
    "#getting the temperature data from all 3 datasets\n",
    "dataset_2008_to_2010 = pd.read_csv(\"Data/2008-10.csv\")\n",
    "dataset_2011_to_2013 = pd.read_csv(\"Data/2011-13.csv\")\n",
    "dataset_2014 = pd.read_csv(\"Data/2014.csv\")"
   ]
  },
  {
   "cell_type": "markdown",
   "metadata": {},
   "source": [
    "# Data Cleaning"
   ]
  },
  {
   "cell_type": "markdown",
   "metadata": {},
   "source": [
    "Describe your data cleaning steps here."
   ]
  },
  {
   "cell_type": "code",
   "execution_count": 76,
   "metadata": {},
   "outputs": [],
   "source": [
    "## Suicide Data Cleaning\n",
    "\n",
    "#the yearly suicide contains data from 2000-2014, we want to filter it out to 2008-2014\n",
    "suicide_count_yearly['Year'] = suicide_count_yearly['Year'].astype(int)\n",
    "suicide_count_yearly = suicide_count_yearly[suicide_count_yearly['Year'] >= 2008]\n",
    "suicide_count_yearly = suicide_count_yearly.reset_index(drop=True)\n",
    "\n",
    "#remove irrelevant columns (crude rate and ageadjusted rate)\n",
    "suicide_count_yearly = suicide_count_yearly.iloc[:,:4]\n",
    "\n",
    "#merge with the seasonal data\n",
    "suicide_dataset = pd.merge(left=suicide_count_yearly, right=suicide_count_seasonal, how='inner')\n",
    "\n",
    "#rename columns\n",
    "new_columns = {'Winter':'Winter count of suicides (Total)', 'Spring':'Spring count of suicides (Total)', \n",
    "               'Summer':'Summer count of suicides (Total)', 'Fall':'Fall count of suicides (Total)'}\n",
    "suicide_dataset = suicide_dataset.rename(new_columns, axis='columns')\n",
    "\n",
    "#verify integrity of datset"
   ]
  },
  {
   "cell_type": "code",
   "execution_count": null,
   "metadata": {},
   "outputs": [],
   "source": [
    "## Temperature Data Cleaning"
   ]
  },
  {
   "cell_type": "markdown",
   "metadata": {},
   "source": [
    "# Project Proposal (updated)"
   ]
  },
  {
   "cell_type": "markdown",
   "metadata": {},
   "source": [
    "| Meeting Date  | Meeting Time| Completed Before Meeting  | Discuss at Meeting |\n",
    "|---|---|---|---|\n",
    "| 2/17  |  8 PM | Import & Wrangle Data, EDA  | Review/Edit wrangling/EDA; Discuss Analysis Plan | \n",
    "| 2/24  |  8 PM |  Finalize wrangling/EDA; Begin Analysis  | Discuss/edit Analysis; Complete project check-in | \n",
    "| 3/3  |   8 PM  | Complete analysis; Draft results/conclusion/discussion   | Discuss/edit full project   |\n",
    "| 3/10  |  8 PM  | Any last minute revisions | Turn in Final Project & Group Project Surveys  |\n"
   ]
  }
 ],
 "metadata": {
  "kernelspec": {
   "display_name": "Python 3",
   "language": "python",
   "name": "python3"
  },
  "language_info": {
   "codemirror_mode": {
    "name": "ipython",
    "version": 3
   },
   "file_extension": ".py",
   "mimetype": "text/x-python",
   "name": "python",
   "nbconvert_exporter": "python",
   "pygments_lexer": "ipython3",
   "version": "3.7.6"
  }
 },
 "nbformat": 4,
 "nbformat_minor": 2
}
